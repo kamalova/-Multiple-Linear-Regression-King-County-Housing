{
 "cells": [
  {
   "cell_type": "markdown",
   "metadata": {},
   "source": [
    " ##     Multiple Regression Analysis of House Sales Data in King County, Washington"
   ]
  },
  {
   "cell_type": "markdown",
   "metadata": {},
   "source": [
    "**Author** : Nurgul Kurbanali kyzy <p>\n",
    "**Blog Post**:"
   ]
  },
  {
   "cell_type": "markdown",
   "metadata": {},
   "source": [
    "### Project Overview"
   ]
  },
  {
   "cell_type": "markdown",
   "metadata": {},
   "source": [
    "We will use  multiple linear regression modeling for inference to study the relationship between the price and other variables present in the dataset between 20112-2105, with the hope of helping potential home buyers/seller understand the King County housing market. Thus great emphasis will be given to the coefficients of  features as opposed to the overall accuracy of the model.\n",
    " "
   ]
  },
  {
   "cell_type": "markdown",
   "metadata": {},
   "source": [
    "### Problem Statement"
   ]
  },
  {
   "cell_type": "markdown",
   "metadata": {},
   "source": [
    "The stakeholders of this project are a real estate agency that helps homeowners buy and/or sell homes. The business problem is to provide advice to homeowners on which aspects of the house features they should invest in, in order to increase the estimated values of their homes, and by what amount. "
   ]
  },
  {
   "cell_type": "markdown",
   "metadata": {},
   "source": [
    "### Data Understanding"
   ]
  },
  {
   "cell_type": "markdown",
   "metadata": {},
   "source": [
    "The dataset includes 21 assessment parameters which describes every aspect of  homes in King County. These variables focus on the quality and quantity of the physical attributes of a property."
   ]
  },
  {
   "cell_type": "markdown",
   "metadata": {},
   "source": [
    "**Column Names and Descriptions for Data Set**\n",
    "* `id` - Unique identifier for a house\n",
    "* `date` - Date house was sold\n",
    "* `price` - Sale price (prediction target)\n",
    "* `bedrooms` - Number of bedrooms\n",
    "* `bathrooms` - Number of bathrooms\n",
    "* `sqft_living` - Square footage of living space in the home\n",
    "* `sqft_lot` - Square footage of the lot\n",
    "* `floors` - Number of floors (levels) in house\n",
    "* `waterfront` - Whether the house is on a waterfront\n",
    "* `view` - Quality of view from house\n",
    "* `condition` - How good the overall condition of the house is. Related to maintenance of house.\n",
    "* `grade` - Overall grade of the house. Related to the construction and design of the house.\n",
    "* `sqft_above` - Square footage of house apart from basement\n",
    "* `sqft_basement` - Square footage of the basement\n",
    "* `yr_built` - Year when house was built\n",
    "* `yr_renovated` - Year when house was renovated\n",
    "* `zipcode` - ZIP Code used by the United States Postal Service\n",
    "* `lat` - Latitude coordinate\n",
    "* `long` - Longitude coordinate\n",
    "* `sqft_living15` - The square footage of interior housing living space for the nearest 15 neighbors\n",
    "* `sqft_lot15` - The square footage of the land lots of the nearest 15 neighbors\n"
   ]
  },
  {
   "cell_type": "markdown",
   "metadata": {},
   "source": [
    "####  Data Load"
   ]
  },
  {
   "cell_type": "code",
   "execution_count": 1,
   "metadata": {},
   "outputs": [],
   "source": [
    "# importing the packages that will be used for this project\n",
    "import pandas as pd\n",
    "# setting pandas display to avoid scientific notation in DataFrame\n",
    "pd.options.display.float_format = '{:.2f}'.format\n",
    "import numpy as np\n",
    "import warnings\n",
    "warnings.filterwarnings(\"ignore\")\n",
    "import matplotlib.pyplot as plt\n",
    "import seaborn as sns\n",
    "sns.set(style='whitegrid')\n",
    "%matplotlib inline\n",
    "import sklearn\n",
    "from scipy import stats\n",
    "import statsmodels.api as sm\n",
    "from statsmodels.formula.api import ols\n",
    "from statsmodels.stats.outliers_influence import variance_inflation_factor\n",
    "from sklearn.model_selection import train_test_split\n",
    "from sklearn.linear_model import LinearRegression\n",
    "from sklearn.metrics import mean_squared_error"
   ]
  },
  {
   "cell_type": "code",
   "execution_count": 2,
   "metadata": {},
   "outputs": [
    {
     "data": {
      "text/html": [
       "<div>\n",
       "<style scoped>\n",
       "    .dataframe tbody tr th:only-of-type {\n",
       "        vertical-align: middle;\n",
       "    }\n",
       "\n",
       "    .dataframe tbody tr th {\n",
       "        vertical-align: top;\n",
       "    }\n",
       "\n",
       "    .dataframe thead th {\n",
       "        text-align: right;\n",
       "    }\n",
       "</style>\n",
       "<table border=\"1\" class=\"dataframe\">\n",
       "  <thead>\n",
       "    <tr style=\"text-align: right;\">\n",
       "      <th></th>\n",
       "      <th>id</th>\n",
       "      <th>date</th>\n",
       "      <th>price</th>\n",
       "      <th>bedrooms</th>\n",
       "      <th>bathrooms</th>\n",
       "      <th>sqft_living</th>\n",
       "      <th>sqft_lot</th>\n",
       "      <th>floors</th>\n",
       "      <th>waterfront</th>\n",
       "      <th>view</th>\n",
       "      <th>...</th>\n",
       "      <th>grade</th>\n",
       "      <th>sqft_above</th>\n",
       "      <th>sqft_basement</th>\n",
       "      <th>yr_built</th>\n",
       "      <th>yr_renovated</th>\n",
       "      <th>zipcode</th>\n",
       "      <th>lat</th>\n",
       "      <th>long</th>\n",
       "      <th>sqft_living15</th>\n",
       "      <th>sqft_lot15</th>\n",
       "    </tr>\n",
       "  </thead>\n",
       "  <tbody>\n",
       "    <tr>\n",
       "      <th>0</th>\n",
       "      <td>7129300520</td>\n",
       "      <td>10/13/2014</td>\n",
       "      <td>221900.00</td>\n",
       "      <td>3</td>\n",
       "      <td>1.00</td>\n",
       "      <td>1180</td>\n",
       "      <td>5650</td>\n",
       "      <td>1.00</td>\n",
       "      <td>NaN</td>\n",
       "      <td>NONE</td>\n",
       "      <td>...</td>\n",
       "      <td>7 Average</td>\n",
       "      <td>1180</td>\n",
       "      <td>0.0</td>\n",
       "      <td>1955</td>\n",
       "      <td>0.00</td>\n",
       "      <td>98178</td>\n",
       "      <td>47.51</td>\n",
       "      <td>-122.26</td>\n",
       "      <td>1340</td>\n",
       "      <td>5650</td>\n",
       "    </tr>\n",
       "    <tr>\n",
       "      <th>1</th>\n",
       "      <td>6414100192</td>\n",
       "      <td>12/9/2014</td>\n",
       "      <td>538000.00</td>\n",
       "      <td>3</td>\n",
       "      <td>2.25</td>\n",
       "      <td>2570</td>\n",
       "      <td>7242</td>\n",
       "      <td>2.00</td>\n",
       "      <td>NO</td>\n",
       "      <td>NONE</td>\n",
       "      <td>...</td>\n",
       "      <td>7 Average</td>\n",
       "      <td>2170</td>\n",
       "      <td>400.0</td>\n",
       "      <td>1951</td>\n",
       "      <td>1991.00</td>\n",
       "      <td>98125</td>\n",
       "      <td>47.72</td>\n",
       "      <td>-122.32</td>\n",
       "      <td>1690</td>\n",
       "      <td>7639</td>\n",
       "    </tr>\n",
       "    <tr>\n",
       "      <th>2</th>\n",
       "      <td>5631500400</td>\n",
       "      <td>2/25/2015</td>\n",
       "      <td>180000.00</td>\n",
       "      <td>2</td>\n",
       "      <td>1.00</td>\n",
       "      <td>770</td>\n",
       "      <td>10000</td>\n",
       "      <td>1.00</td>\n",
       "      <td>NO</td>\n",
       "      <td>NONE</td>\n",
       "      <td>...</td>\n",
       "      <td>6 Low Average</td>\n",
       "      <td>770</td>\n",
       "      <td>0.0</td>\n",
       "      <td>1933</td>\n",
       "      <td>nan</td>\n",
       "      <td>98028</td>\n",
       "      <td>47.74</td>\n",
       "      <td>-122.23</td>\n",
       "      <td>2720</td>\n",
       "      <td>8062</td>\n",
       "    </tr>\n",
       "    <tr>\n",
       "      <th>3</th>\n",
       "      <td>2487200875</td>\n",
       "      <td>12/9/2014</td>\n",
       "      <td>604000.00</td>\n",
       "      <td>4</td>\n",
       "      <td>3.00</td>\n",
       "      <td>1960</td>\n",
       "      <td>5000</td>\n",
       "      <td>1.00</td>\n",
       "      <td>NO</td>\n",
       "      <td>NONE</td>\n",
       "      <td>...</td>\n",
       "      <td>7 Average</td>\n",
       "      <td>1050</td>\n",
       "      <td>910.0</td>\n",
       "      <td>1965</td>\n",
       "      <td>0.00</td>\n",
       "      <td>98136</td>\n",
       "      <td>47.52</td>\n",
       "      <td>-122.39</td>\n",
       "      <td>1360</td>\n",
       "      <td>5000</td>\n",
       "    </tr>\n",
       "    <tr>\n",
       "      <th>4</th>\n",
       "      <td>1954400510</td>\n",
       "      <td>2/18/2015</td>\n",
       "      <td>510000.00</td>\n",
       "      <td>3</td>\n",
       "      <td>2.00</td>\n",
       "      <td>1680</td>\n",
       "      <td>8080</td>\n",
       "      <td>1.00</td>\n",
       "      <td>NO</td>\n",
       "      <td>NONE</td>\n",
       "      <td>...</td>\n",
       "      <td>8 Good</td>\n",
       "      <td>1680</td>\n",
       "      <td>0.0</td>\n",
       "      <td>1987</td>\n",
       "      <td>0.00</td>\n",
       "      <td>98074</td>\n",
       "      <td>47.62</td>\n",
       "      <td>-122.05</td>\n",
       "      <td>1800</td>\n",
       "      <td>7503</td>\n",
       "    </tr>\n",
       "  </tbody>\n",
       "</table>\n",
       "<p>5 rows × 21 columns</p>\n",
       "</div>"
      ],
      "text/plain": [
       "           id        date     price  bedrooms  bathrooms  sqft_living  \\\n",
       "0  7129300520  10/13/2014 221900.00         3       1.00         1180   \n",
       "1  6414100192   12/9/2014 538000.00         3       2.25         2570   \n",
       "2  5631500400   2/25/2015 180000.00         2       1.00          770   \n",
       "3  2487200875   12/9/2014 604000.00         4       3.00         1960   \n",
       "4  1954400510   2/18/2015 510000.00         3       2.00         1680   \n",
       "\n",
       "   sqft_lot  floors waterfront  view  ...          grade sqft_above  \\\n",
       "0      5650    1.00        NaN  NONE  ...      7 Average       1180   \n",
       "1      7242    2.00         NO  NONE  ...      7 Average       2170   \n",
       "2     10000    1.00         NO  NONE  ...  6 Low Average        770   \n",
       "3      5000    1.00         NO  NONE  ...      7 Average       1050   \n",
       "4      8080    1.00         NO  NONE  ...         8 Good       1680   \n",
       "\n",
       "   sqft_basement yr_built  yr_renovated  zipcode   lat    long  sqft_living15  \\\n",
       "0            0.0     1955          0.00    98178 47.51 -122.26           1340   \n",
       "1          400.0     1951       1991.00    98125 47.72 -122.32           1690   \n",
       "2            0.0     1933           nan    98028 47.74 -122.23           2720   \n",
       "3          910.0     1965          0.00    98136 47.52 -122.39           1360   \n",
       "4            0.0     1987          0.00    98074 47.62 -122.05           1800   \n",
       "\n",
       "   sqft_lot15  \n",
       "0        5650  \n",
       "1        7639  \n",
       "2        8062  \n",
       "3        5000  \n",
       "4        7503  \n",
       "\n",
       "[5 rows x 21 columns]"
      ]
     },
     "execution_count": 2,
     "metadata": {},
     "output_type": "execute_result"
    }
   ],
   "source": [
    "df = pd.read_csv('data/kc_house_data.csv')\n",
    "df.head(5)"
   ]
  },
  {
   "cell_type": "code",
   "execution_count": 3,
   "metadata": {},
   "outputs": [
    {
     "name": "stdout",
     "output_type": "stream",
     "text": [
      "<class 'pandas.core.frame.DataFrame'>\n",
      "RangeIndex: 21597 entries, 0 to 21596\n",
      "Data columns (total 21 columns):\n",
      " #   Column         Non-Null Count  Dtype  \n",
      "---  ------         --------------  -----  \n",
      " 0   id             21597 non-null  int64  \n",
      " 1   date           21597 non-null  object \n",
      " 2   price          21597 non-null  float64\n",
      " 3   bedrooms       21597 non-null  int64  \n",
      " 4   bathrooms      21597 non-null  float64\n",
      " 5   sqft_living    21597 non-null  int64  \n",
      " 6   sqft_lot       21597 non-null  int64  \n",
      " 7   floors         21597 non-null  float64\n",
      " 8   waterfront     19221 non-null  object \n",
      " 9   view           21534 non-null  object \n",
      " 10  condition      21597 non-null  object \n",
      " 11  grade          21597 non-null  object \n",
      " 12  sqft_above     21597 non-null  int64  \n",
      " 13  sqft_basement  21597 non-null  object \n",
      " 14  yr_built       21597 non-null  int64  \n",
      " 15  yr_renovated   17755 non-null  float64\n",
      " 16  zipcode        21597 non-null  int64  \n",
      " 17  lat            21597 non-null  float64\n",
      " 18  long           21597 non-null  float64\n",
      " 19  sqft_living15  21597 non-null  int64  \n",
      " 20  sqft_lot15     21597 non-null  int64  \n",
      "dtypes: float64(6), int64(9), object(6)\n",
      "memory usage: 3.5+ MB\n"
     ]
    }
   ],
   "source": [
    "df.info()"
   ]
  },
  {
   "cell_type": "code",
   "execution_count": 4,
   "metadata": {},
   "outputs": [
    {
     "data": {
      "text/html": [
       "<div>\n",
       "<style scoped>\n",
       "    .dataframe tbody tr th:only-of-type {\n",
       "        vertical-align: middle;\n",
       "    }\n",
       "\n",
       "    .dataframe tbody tr th {\n",
       "        vertical-align: top;\n",
       "    }\n",
       "\n",
       "    .dataframe thead th {\n",
       "        text-align: right;\n",
       "    }\n",
       "</style>\n",
       "<table border=\"1\" class=\"dataframe\">\n",
       "  <thead>\n",
       "    <tr style=\"text-align: right;\">\n",
       "      <th></th>\n",
       "      <th>count</th>\n",
       "      <th>mean</th>\n",
       "      <th>std</th>\n",
       "      <th>min</th>\n",
       "      <th>25%</th>\n",
       "      <th>50%</th>\n",
       "      <th>75%</th>\n",
       "      <th>max</th>\n",
       "    </tr>\n",
       "  </thead>\n",
       "  <tbody>\n",
       "    <tr>\n",
       "      <th>id</th>\n",
       "      <td>21597.00</td>\n",
       "      <td>4580474287.77</td>\n",
       "      <td>2876735715.75</td>\n",
       "      <td>1000102.00</td>\n",
       "      <td>2123049175.00</td>\n",
       "      <td>3904930410.00</td>\n",
       "      <td>7308900490.00</td>\n",
       "      <td>9900000190.00</td>\n",
       "    </tr>\n",
       "    <tr>\n",
       "      <th>price</th>\n",
       "      <td>21597.00</td>\n",
       "      <td>540296.57</td>\n",
       "      <td>367368.14</td>\n",
       "      <td>78000.00</td>\n",
       "      <td>322000.00</td>\n",
       "      <td>450000.00</td>\n",
       "      <td>645000.00</td>\n",
       "      <td>7700000.00</td>\n",
       "    </tr>\n",
       "    <tr>\n",
       "      <th>bedrooms</th>\n",
       "      <td>21597.00</td>\n",
       "      <td>3.37</td>\n",
       "      <td>0.93</td>\n",
       "      <td>1.00</td>\n",
       "      <td>3.00</td>\n",
       "      <td>3.00</td>\n",
       "      <td>4.00</td>\n",
       "      <td>33.00</td>\n",
       "    </tr>\n",
       "    <tr>\n",
       "      <th>bathrooms</th>\n",
       "      <td>21597.00</td>\n",
       "      <td>2.12</td>\n",
       "      <td>0.77</td>\n",
       "      <td>0.50</td>\n",
       "      <td>1.75</td>\n",
       "      <td>2.25</td>\n",
       "      <td>2.50</td>\n",
       "      <td>8.00</td>\n",
       "    </tr>\n",
       "    <tr>\n",
       "      <th>sqft_living</th>\n",
       "      <td>21597.00</td>\n",
       "      <td>2080.32</td>\n",
       "      <td>918.11</td>\n",
       "      <td>370.00</td>\n",
       "      <td>1430.00</td>\n",
       "      <td>1910.00</td>\n",
       "      <td>2550.00</td>\n",
       "      <td>13540.00</td>\n",
       "    </tr>\n",
       "    <tr>\n",
       "      <th>sqft_lot</th>\n",
       "      <td>21597.00</td>\n",
       "      <td>15099.41</td>\n",
       "      <td>41412.64</td>\n",
       "      <td>520.00</td>\n",
       "      <td>5040.00</td>\n",
       "      <td>7618.00</td>\n",
       "      <td>10685.00</td>\n",
       "      <td>1651359.00</td>\n",
       "    </tr>\n",
       "    <tr>\n",
       "      <th>floors</th>\n",
       "      <td>21597.00</td>\n",
       "      <td>1.49</td>\n",
       "      <td>0.54</td>\n",
       "      <td>1.00</td>\n",
       "      <td>1.00</td>\n",
       "      <td>1.50</td>\n",
       "      <td>2.00</td>\n",
       "      <td>3.50</td>\n",
       "    </tr>\n",
       "    <tr>\n",
       "      <th>sqft_above</th>\n",
       "      <td>21597.00</td>\n",
       "      <td>1788.60</td>\n",
       "      <td>827.76</td>\n",
       "      <td>370.00</td>\n",
       "      <td>1190.00</td>\n",
       "      <td>1560.00</td>\n",
       "      <td>2210.00</td>\n",
       "      <td>9410.00</td>\n",
       "    </tr>\n",
       "    <tr>\n",
       "      <th>yr_built</th>\n",
       "      <td>21597.00</td>\n",
       "      <td>1971.00</td>\n",
       "      <td>29.38</td>\n",
       "      <td>1900.00</td>\n",
       "      <td>1951.00</td>\n",
       "      <td>1975.00</td>\n",
       "      <td>1997.00</td>\n",
       "      <td>2015.00</td>\n",
       "    </tr>\n",
       "    <tr>\n",
       "      <th>yr_renovated</th>\n",
       "      <td>17755.00</td>\n",
       "      <td>83.64</td>\n",
       "      <td>399.95</td>\n",
       "      <td>0.00</td>\n",
       "      <td>0.00</td>\n",
       "      <td>0.00</td>\n",
       "      <td>0.00</td>\n",
       "      <td>2015.00</td>\n",
       "    </tr>\n",
       "    <tr>\n",
       "      <th>zipcode</th>\n",
       "      <td>21597.00</td>\n",
       "      <td>98077.95</td>\n",
       "      <td>53.51</td>\n",
       "      <td>98001.00</td>\n",
       "      <td>98033.00</td>\n",
       "      <td>98065.00</td>\n",
       "      <td>98118.00</td>\n",
       "      <td>98199.00</td>\n",
       "    </tr>\n",
       "    <tr>\n",
       "      <th>lat</th>\n",
       "      <td>21597.00</td>\n",
       "      <td>47.56</td>\n",
       "      <td>0.14</td>\n",
       "      <td>47.16</td>\n",
       "      <td>47.47</td>\n",
       "      <td>47.57</td>\n",
       "      <td>47.68</td>\n",
       "      <td>47.78</td>\n",
       "    </tr>\n",
       "    <tr>\n",
       "      <th>long</th>\n",
       "      <td>21597.00</td>\n",
       "      <td>-122.21</td>\n",
       "      <td>0.14</td>\n",
       "      <td>-122.52</td>\n",
       "      <td>-122.33</td>\n",
       "      <td>-122.23</td>\n",
       "      <td>-122.12</td>\n",
       "      <td>-121.31</td>\n",
       "    </tr>\n",
       "    <tr>\n",
       "      <th>sqft_living15</th>\n",
       "      <td>21597.00</td>\n",
       "      <td>1986.62</td>\n",
       "      <td>685.23</td>\n",
       "      <td>399.00</td>\n",
       "      <td>1490.00</td>\n",
       "      <td>1840.00</td>\n",
       "      <td>2360.00</td>\n",
       "      <td>6210.00</td>\n",
       "    </tr>\n",
       "    <tr>\n",
       "      <th>sqft_lot15</th>\n",
       "      <td>21597.00</td>\n",
       "      <td>12758.28</td>\n",
       "      <td>27274.44</td>\n",
       "      <td>651.00</td>\n",
       "      <td>5100.00</td>\n",
       "      <td>7620.00</td>\n",
       "      <td>10083.00</td>\n",
       "      <td>871200.00</td>\n",
       "    </tr>\n",
       "  </tbody>\n",
       "</table>\n",
       "</div>"
      ],
      "text/plain": [
       "                 count          mean           std        min           25%  \\\n",
       "id            21597.00 4580474287.77 2876735715.75 1000102.00 2123049175.00   \n",
       "price         21597.00     540296.57     367368.14   78000.00     322000.00   \n",
       "bedrooms      21597.00          3.37          0.93       1.00          3.00   \n",
       "bathrooms     21597.00          2.12          0.77       0.50          1.75   \n",
       "sqft_living   21597.00       2080.32        918.11     370.00       1430.00   \n",
       "sqft_lot      21597.00      15099.41      41412.64     520.00       5040.00   \n",
       "floors        21597.00          1.49          0.54       1.00          1.00   \n",
       "sqft_above    21597.00       1788.60        827.76     370.00       1190.00   \n",
       "yr_built      21597.00       1971.00         29.38    1900.00       1951.00   \n",
       "yr_renovated  17755.00         83.64        399.95       0.00          0.00   \n",
       "zipcode       21597.00      98077.95         53.51   98001.00      98033.00   \n",
       "lat           21597.00         47.56          0.14      47.16         47.47   \n",
       "long          21597.00       -122.21          0.14    -122.52       -122.33   \n",
       "sqft_living15 21597.00       1986.62        685.23     399.00       1490.00   \n",
       "sqft_lot15    21597.00      12758.28      27274.44     651.00       5100.00   \n",
       "\n",
       "                        50%           75%           max  \n",
       "id            3904930410.00 7308900490.00 9900000190.00  \n",
       "price             450000.00     645000.00    7700000.00  \n",
       "bedrooms               3.00          4.00         33.00  \n",
       "bathrooms              2.25          2.50          8.00  \n",
       "sqft_living         1910.00       2550.00      13540.00  \n",
       "sqft_lot            7618.00      10685.00    1651359.00  \n",
       "floors                 1.50          2.00          3.50  \n",
       "sqft_above          1560.00       2210.00       9410.00  \n",
       "yr_built            1975.00       1997.00       2015.00  \n",
       "yr_renovated           0.00          0.00       2015.00  \n",
       "zipcode            98065.00      98118.00      98199.00  \n",
       "lat                   47.57         47.68         47.78  \n",
       "long                -122.23       -122.12       -121.31  \n",
       "sqft_living15       1840.00       2360.00       6210.00  \n",
       "sqft_lot15          7620.00      10083.00     871200.00  "
      ]
     },
     "execution_count": 4,
     "metadata": {},
     "output_type": "execute_result"
    }
   ],
   "source": [
    "# 5 point statistical summary\n",
    "df.describe().T"
   ]
  },
  {
   "cell_type": "markdown",
   "metadata": {},
   "source": [
    "### Data Cleaning"
   ]
  },
  {
   "cell_type": "markdown",
   "metadata": {},
   "source": [
    "#### 1. Drop Irrelevant Columns"
   ]
  },
  {
   "cell_type": "markdown",
   "metadata": {},
   "source": [
    "For the purposes of this project, we  will only be using a subset of all of the features present in the King County Housing dataset except : <p>\n",
    "`id`  -  Unique identifier for a house <p>\n",
    "`lat` -  Latitude coordinate<p>\n",
    "`long`-  Latitude coordinate <p>\n",
    "`zipcode` - ZIP Code used by the United States Postal Service\n"
   ]
  },
  {
   "cell_type": "code",
   "execution_count": 5,
   "metadata": {},
   "outputs": [],
   "source": [
    "# Dropping the unnecessary columns\n",
    "df.drop(columns=['id','lat','long','zipcode'], axis=1,inplace=True)"
   ]
  },
  {
   "cell_type": "code",
   "execution_count": 6,
   "metadata": {},
   "outputs": [
    {
     "data": {
      "text/plain": [
       "Index(['date', 'price', 'bedrooms', 'bathrooms', 'sqft_living', 'sqft_lot',\n",
       "       'floors', 'waterfront', 'view', 'condition', 'grade', 'sqft_above',\n",
       "       'sqft_basement', 'yr_built', 'yr_renovated', 'sqft_living15',\n",
       "       'sqft_lot15'],\n",
       "      dtype='object')"
      ]
     },
     "execution_count": 6,
     "metadata": {},
     "output_type": "execute_result"
    }
   ],
   "source": [
    "# Checking for the remainging columns \n",
    "df.columns"
   ]
  },
  {
   "cell_type": "markdown",
   "metadata": {},
   "source": [
    "#### 2. Handle Missing Values"
   ]
  },
  {
   "cell_type": "markdown",
   "metadata": {},
   "source": [
    "In this step we will assess the presence of NaN values in our subset of data, and  handle any missing values."
   ]
  },
  {
   "cell_type": "code",
   "execution_count": 7,
   "metadata": {},
   "outputs": [
    {
     "data": {
      "text/plain": [
       "date                0\n",
       "price               0\n",
       "bedrooms            0\n",
       "bathrooms           0\n",
       "sqft_living         0\n",
       "sqft_lot            0\n",
       "floors              0\n",
       "waterfront       2376\n",
       "view               63\n",
       "condition           0\n",
       "grade               0\n",
       "sqft_above          0\n",
       "sqft_basement       0\n",
       "yr_built            0\n",
       "yr_renovated     3842\n",
       "sqft_living15       0\n",
       "sqft_lot15          0\n",
       "dtype: int64"
      ]
     },
     "execution_count": 7,
     "metadata": {},
     "output_type": "execute_result"
    }
   ],
   "source": [
    "# Checking for NaN values\n",
    "df.isna().sum()"
   ]
  },
  {
   "cell_type": "code",
   "execution_count": 8,
   "metadata": {},
   "outputs": [
    {
     "data": {
      "text/plain": [
       "yr_renovated    17.79\n",
       "waterfront      11.00\n",
       "view             0.29\n",
       "price            0.00\n",
       "bedrooms         0.00\n",
       "bathrooms        0.00\n",
       "sqft_living      0.00\n",
       "sqft_lot         0.00\n",
       "floors           0.00\n",
       "sqft_lot15       0.00\n",
       "sqft_living15    0.00\n",
       "condition        0.00\n",
       "grade            0.00\n",
       "sqft_above       0.00\n",
       "sqft_basement    0.00\n",
       "yr_built         0.00\n",
       "date             0.00\n",
       "dtype: float64"
      ]
     },
     "execution_count": 8,
     "metadata": {},
     "output_type": "execute_result"
    }
   ],
   "source": [
    "# Finding the ratio of the NaN values\n",
    "percent_missing = df.isnull().sum() * 100 / len(df)\n",
    "percent_missing.sort_values(ascending=False)"
   ]
  },
  {
   "cell_type": "code",
   "execution_count": 9,
   "metadata": {
    "scrolled": true
   },
   "outputs": [
    {
     "data": {
      "text/plain": [
       "array([   0., 1991.,   nan, 2002., 2010., 1992., 2013., 1994., 1978.,\n",
       "       2005., 2003., 1984., 1954., 2014., 2011., 1983., 1945., 1990.,\n",
       "       1988., 1977., 1981., 1995., 2000., 1999., 1998., 1970., 1989.,\n",
       "       2004., 1986., 2007., 1987., 2006., 1985., 2001., 1980., 1971.,\n",
       "       1979., 1997., 1950., 1969., 1948., 2009., 2015., 1974., 2008.,\n",
       "       1968., 2012., 1963., 1951., 1962., 1953., 1993., 1996., 1955.,\n",
       "       1982., 1956., 1940., 1976., 1946., 1975., 1964., 1973., 1957.,\n",
       "       1959., 1960., 1967., 1965., 1934., 1972., 1944., 1958.])"
      ]
     },
     "execution_count": 9,
     "metadata": {},
     "output_type": "execute_result"
    }
   ],
   "source": [
    "# Displaying the unique values in yr_renovated\n",
    "df.yr_renovated.unique()"
   ]
  },
  {
   "cell_type": "markdown",
   "metadata": {},
   "source": [
    "`yr_renovated` - Year when house was renovated. It contains value 0.0that can be  houses have not been renovated yet. Since it contains almost %18 of missing values, instead of droping Nan values we will refill them with the value of 0.0 .\n"
   ]
  },
  {
   "cell_type": "code",
   "execution_count": 10,
   "metadata": {},
   "outputs": [],
   "source": [
    "df['yr_renovated'] = df['yr_renovated'].fillna(0)"
   ]
  },
  {
   "cell_type": "markdown",
   "metadata": {},
   "source": [
    "`waterfront`- Whether the house is on a waterfront <p>\n",
    "`view` - Quality of view from house    <p>\n",
    "These columns are contain categorical values and have less NaN's we can drop the missing values in them\n"
   ]
  },
  {
   "cell_type": "code",
   "execution_count": 11,
   "metadata": {},
   "outputs": [],
   "source": [
    "df.dropna(subset=['waterfront', 'view'], inplace=True)"
   ]
  },
  {
   "cell_type": "code",
   "execution_count": 12,
   "metadata": {},
   "outputs": [
    {
     "data": {
      "text/plain": [
       "array(['400.0', '0.0', '910.0', '1530.0', '?', '730.0', '300.0', '970.0',\n",
       "       '760.0', '720.0', '700.0', '820.0', '780.0', '790.0', '330.0',\n",
       "       '1620.0', '360.0', '588.0', '1510.0', '410.0', '990.0', '600.0',\n",
       "       '550.0', '1000.0', '1600.0', '1700.0', '500.0', '1040.0', '880.0',\n",
       "       '1010.0', '240.0', '265.0', '290.0', '800.0', '540.0', '560.0',\n",
       "       '840.0', '770.0', '570.0', '1490.0', '620.0', '1250.0', '1270.0',\n",
       "       '120.0', '650.0', '180.0', '1130.0', '450.0', '1640.0', '1460.0',\n",
       "       '1020.0', '1030.0', '750.0', '640.0', '1070.0', '490.0', '1310.0',\n",
       "       '630.0', '2000.0', '390.0', '430.0', '210.0', '1950.0', '440.0',\n",
       "       '220.0', '1160.0', '860.0', '580.0', '2060.0', '1820.0', '1180.0',\n",
       "       '380.0', '200.0', '1150.0', '1200.0', '680.0', '1450.0', '1170.0',\n",
       "       '1080.0', '960.0', '280.0', '870.0', '1100.0', '1400.0', '530.0',\n",
       "       '660.0', '1220.0', '900.0', '420.0', '1580.0', '1380.0', '475.0',\n",
       "       '690.0', '270.0', '350.0', '935.0', '710.0', '1370.0', '980.0',\n",
       "       '850.0', '1470.0', '160.0', '950.0', '460.0', '50.0', '1900.0',\n",
       "       '340.0', '470.0', '370.0', '140.0', '480.0', '1760.0', '130.0',\n",
       "       '520.0', '890.0', '1110.0', '150.0', '1720.0', '810.0', '190.0',\n",
       "       '1290.0', '670.0', '1800.0', '1120.0', '60.0', '1050.0', '940.0',\n",
       "       '310.0', '930.0', '1390.0', '610.0', '1830.0', '1300.0', '510.0',\n",
       "       '1590.0', '920.0', '1320.0', '1420.0', '1240.0', '1960.0',\n",
       "       '1560.0', '2020.0', '1190.0', '2110.0', '1280.0', '250.0',\n",
       "       '1230.0', '170.0', '1780.0', '830.0', '1330.0', '1410.0', '590.0',\n",
       "       '1500.0', '1140.0', '260.0', '100.0', '320.0', '1480.0', '1260.0',\n",
       "       '1284.0', '1670.0', '1350.0', '740.0', '2570.0', '1060.0',\n",
       "       '1090.0', '110.0', '2500.0', '90.0', '1940.0', '1550.0', '2350.0',\n",
       "       '2490.0', '1340.0', '1481.0', '1360.0', '1135.0', '1520.0',\n",
       "       '1850.0', '1660.0', '2130.0', '2600.0', '243.0', '1210.0',\n",
       "       '1024.0', '1798.0', '1610.0', '1440.0', '1690.0', '1570.0',\n",
       "       '1650.0', '1910.0', '1630.0', '2360.0', '1852.0', '2400.0',\n",
       "       '1790.0', '2150.0', '230.0', '70.0', '1430.0', '1680.0', '2100.0',\n",
       "       '3000.0', '1870.0', '1710.0', '2030.0', '875.0', '1540.0',\n",
       "       '2850.0', '2170.0', '506.0', '906.0', '145.0', '2040.0', '784.0',\n",
       "       '1750.0', '374.0', '518.0', '2720.0', '2730.0', '1840.0', '3480.0',\n",
       "       '1920.0', '2330.0', '1860.0', '2050.0', '4820.0', '1913.0', '80.0',\n",
       "       '2010.0', '3260.0', '2200.0', '415.0', '1730.0', '652.0', '2196.0',\n",
       "       '1930.0', '1810.0', '40.0', '2080.0', '2580.0', '1548.0', '1740.0',\n",
       "       '235.0', '861.0', '1890.0', '2220.0', '792.0', '2070.0', '4130.0',\n",
       "       '2090.0', '2250.0', '2240.0', '2160.0', '1990.0', '768.0', '515.0',\n",
       "       '2550.0', '435.0', '1008.0', '2300.0', '2610.0', '666.0', '3500.0',\n",
       "       '172.0', '2190.0', '1245.0', '1525.0', '1880.0', '862.0', '946.0',\n",
       "       '1281.0', '414.0', '276.0', '1248.0', '602.0', '516.0', '176.0',\n",
       "       '225.0', '266.0', '283.0', '2310.0', '10.0', '1770.0', '2120.0',\n",
       "       '295.0', '207.0', '915.0', '556.0', '417.0', '143.0', '508.0',\n",
       "       '2810.0', '20.0', '274.0', '248.0'], dtype=object)"
      ]
     },
     "execution_count": 12,
     "metadata": {},
     "output_type": "execute_result"
    }
   ],
   "source": [
    "# Displaying the unique values in sqft_basement\n",
    "df.sqft_basement.unique()"
   ]
  },
  {
   "cell_type": "code",
   "execution_count": 13,
   "metadata": {},
   "outputs": [],
   "source": [
    "# Replacing question marks with the 0.0 values\n",
    "df['sqft_basement'].replace(\n",
    "    to_replace=['?'],\n",
    "    value='0.0',\n",
    "    inplace=True\n",
    ")"
   ]
  },
  {
   "cell_type": "code",
   "execution_count": 14,
   "metadata": {},
   "outputs": [
    {
     "data": {
      "text/plain": [
       "dtype('float64')"
      ]
     },
     "execution_count": 14,
     "metadata": {},
     "output_type": "execute_result"
    }
   ],
   "source": [
    "# Converting sqft_basement to a numeric type\n",
    "df['sqft_basement'] = pd.to_numeric(df['sqft_basement'])\n",
    "df.sqft_basement.dtype"
   ]
  },
  {
   "cell_type": "code",
   "execution_count": 15,
   "metadata": {},
   "outputs": [
    {
     "data": {
      "text/plain": [
       "date             0\n",
       "price            0\n",
       "bedrooms         0\n",
       "bathrooms        0\n",
       "sqft_living      0\n",
       "sqft_lot         0\n",
       "floors           0\n",
       "waterfront       0\n",
       "view             0\n",
       "condition        0\n",
       "grade            0\n",
       "sqft_above       0\n",
       "sqft_basement    0\n",
       "yr_built         0\n",
       "yr_renovated     0\n",
       "sqft_living15    0\n",
       "sqft_lot15       0\n",
       "dtype: int64"
      ]
     },
     "execution_count": 15,
     "metadata": {},
     "output_type": "execute_result"
    }
   ],
   "source": [
    "# Checking for missing values\n",
    "df.isna().sum()"
   ]
  },
  {
   "cell_type": "markdown",
   "metadata": {},
   "source": [
    "#### 3. Converting Categorical Features into Numbers"
   ]
  },
  {
   "cell_type": "markdown",
   "metadata": {},
   "source": [
    "Encoding is a required pre-processing step when working with categorical data for machine learning algorithms<p>\n",
    "In this step we will mostly use an *ordinal encoding* for categorical variables that have a natural rank ordering  and  *get_dummies()* function to convert categorical variable into dummy/indicator."
   ]
  },
  {
   "cell_type": "code",
   "execution_count": 16,
   "metadata": {},
   "outputs": [
    {
     "name": "stdout",
     "output_type": "stream",
     "text": [
      "<class 'pandas.core.frame.DataFrame'>\n",
      "Int64Index: 19164 entries, 1 to 21596\n",
      "Data columns (total 17 columns):\n",
      " #   Column         Non-Null Count  Dtype  \n",
      "---  ------         --------------  -----  \n",
      " 0   date           19164 non-null  object \n",
      " 1   price          19164 non-null  float64\n",
      " 2   bedrooms       19164 non-null  int64  \n",
      " 3   bathrooms      19164 non-null  float64\n",
      " 4   sqft_living    19164 non-null  int64  \n",
      " 5   sqft_lot       19164 non-null  int64  \n",
      " 6   floors         19164 non-null  float64\n",
      " 7   waterfront     19164 non-null  object \n",
      " 8   view           19164 non-null  object \n",
      " 9   condition      19164 non-null  object \n",
      " 10  grade          19164 non-null  object \n",
      " 11  sqft_above     19164 non-null  int64  \n",
      " 12  sqft_basement  19164 non-null  float64\n",
      " 13  yr_built       19164 non-null  int64  \n",
      " 14  yr_renovated   19164 non-null  float64\n",
      " 15  sqft_living15  19164 non-null  int64  \n",
      " 16  sqft_lot15     19164 non-null  int64  \n",
      "dtypes: float64(5), int64(7), object(5)\n",
      "memory usage: 2.6+ MB\n"
     ]
    }
   ],
   "source": [
    "# Printing the information about the DataFrame\n",
    "df.info()"
   ]
  },
  {
   "cell_type": "markdown",
   "metadata": {},
   "source": [
    "Anything that is already float64 or int64 will work with the model, but following features need to be converted. They all currently type `object` <p>\n",
    "`date`      - Date house was sold <p>\n",
    "`waterfront`- Whether the house is on a waterfront <p>\n",
    "`condition` - How good the overall condition of the house is. Related to maintenance of house.<p>\n",
    "`grade`     - Overall grade of the house. Related to the construction and design of the house.<p>\n",
    "`view`      - Quality of view from house\n"
   ]
  },
  {
   "cell_type": "code",
   "execution_count": 17,
   "metadata": {},
   "outputs": [],
   "source": [
    "# Tranforming 'date' to a datetime series and return just years that house was sold.\n",
    "df['date'] = pd.to_datetime(df['date']).dt.date\n",
    "df['date'] = pd.to_datetime(df['date']).dt.year"
   ]
  },
  {
   "cell_type": "code",
   "execution_count": 18,
   "metadata": {},
   "outputs": [
    {
     "name": "stdout",
     "output_type": "stream",
     "text": [
      "['NO' 'YES']\n",
      "\n",
      "['Average' 'Very Good' 'Good' 'Poor' 'Fair']\n",
      "\n",
      "['NONE' 'GOOD' 'EXCELLENT' 'AVERAGE' 'FAIR']\n",
      "\n",
      "['7 Average' '6 Low Average' '8 Good' '11 Excellent' '9 Better' '5 Fair'\n",
      " '10 Very Good' '12 Luxury' '4 Low' '3 Poor' '13 Mansion']\n"
     ]
    }
   ],
   "source": [
    "# Displaying all the unique values within the selected columns\n",
    "print (df.waterfront.unique())\n",
    "print()\n",
    "print (df.condition.unique())\n",
    "print()\n",
    "print(df.view.unique())\n",
    "print()\n",
    "print (df.grade.unique())"
   ]
  },
  {
   "cell_type": "markdown",
   "metadata": {},
   "source": [
    "It looks like just `waterfront` has only 2 categories and can be converted into binary in place whereas other columns have more than 2 categories, and they all are ordinal categories."
   ]
  },
  {
   "cell_type": "code",
   "execution_count": 19,
   "metadata": {},
   "outputs": [
    {
     "data": {
      "text/html": [
       "<div>\n",
       "<style scoped>\n",
       "    .dataframe tbody tr th:only-of-type {\n",
       "        vertical-align: middle;\n",
       "    }\n",
       "\n",
       "    .dataframe tbody tr th {\n",
       "        vertical-align: top;\n",
       "    }\n",
       "\n",
       "    .dataframe thead th {\n",
       "        text-align: right;\n",
       "    }\n",
       "</style>\n",
       "<table border=\"1\" class=\"dataframe\">\n",
       "  <thead>\n",
       "    <tr style=\"text-align: right;\">\n",
       "      <th></th>\n",
       "      <th>date</th>\n",
       "      <th>price</th>\n",
       "      <th>bedrooms</th>\n",
       "      <th>bathrooms</th>\n",
       "      <th>sqft_living</th>\n",
       "      <th>sqft_lot</th>\n",
       "      <th>floors</th>\n",
       "      <th>view</th>\n",
       "      <th>condition</th>\n",
       "      <th>grade</th>\n",
       "      <th>sqft_above</th>\n",
       "      <th>sqft_basement</th>\n",
       "      <th>yr_built</th>\n",
       "      <th>yr_renovated</th>\n",
       "      <th>sqft_living15</th>\n",
       "      <th>sqft_lot15</th>\n",
       "      <th>wtf_YES</th>\n",
       "    </tr>\n",
       "  </thead>\n",
       "  <tbody>\n",
       "    <tr>\n",
       "      <th>1</th>\n",
       "      <td>2014</td>\n",
       "      <td>538000.00</td>\n",
       "      <td>3</td>\n",
       "      <td>2.25</td>\n",
       "      <td>2570</td>\n",
       "      <td>7242</td>\n",
       "      <td>2.00</td>\n",
       "      <td>NONE</td>\n",
       "      <td>Average</td>\n",
       "      <td>7 Average</td>\n",
       "      <td>2170</td>\n",
       "      <td>400.00</td>\n",
       "      <td>1951</td>\n",
       "      <td>1991.00</td>\n",
       "      <td>1690</td>\n",
       "      <td>7639</td>\n",
       "      <td>0</td>\n",
       "    </tr>\n",
       "    <tr>\n",
       "      <th>2</th>\n",
       "      <td>2015</td>\n",
       "      <td>180000.00</td>\n",
       "      <td>2</td>\n",
       "      <td>1.00</td>\n",
       "      <td>770</td>\n",
       "      <td>10000</td>\n",
       "      <td>1.00</td>\n",
       "      <td>NONE</td>\n",
       "      <td>Average</td>\n",
       "      <td>6 Low Average</td>\n",
       "      <td>770</td>\n",
       "      <td>0.00</td>\n",
       "      <td>1933</td>\n",
       "      <td>0.00</td>\n",
       "      <td>2720</td>\n",
       "      <td>8062</td>\n",
       "      <td>0</td>\n",
       "    </tr>\n",
       "    <tr>\n",
       "      <th>3</th>\n",
       "      <td>2014</td>\n",
       "      <td>604000.00</td>\n",
       "      <td>4</td>\n",
       "      <td>3.00</td>\n",
       "      <td>1960</td>\n",
       "      <td>5000</td>\n",
       "      <td>1.00</td>\n",
       "      <td>NONE</td>\n",
       "      <td>Very Good</td>\n",
       "      <td>7 Average</td>\n",
       "      <td>1050</td>\n",
       "      <td>910.00</td>\n",
       "      <td>1965</td>\n",
       "      <td>0.00</td>\n",
       "      <td>1360</td>\n",
       "      <td>5000</td>\n",
       "      <td>0</td>\n",
       "    </tr>\n",
       "    <tr>\n",
       "      <th>4</th>\n",
       "      <td>2015</td>\n",
       "      <td>510000.00</td>\n",
       "      <td>3</td>\n",
       "      <td>2.00</td>\n",
       "      <td>1680</td>\n",
       "      <td>8080</td>\n",
       "      <td>1.00</td>\n",
       "      <td>NONE</td>\n",
       "      <td>Average</td>\n",
       "      <td>8 Good</td>\n",
       "      <td>1680</td>\n",
       "      <td>0.00</td>\n",
       "      <td>1987</td>\n",
       "      <td>0.00</td>\n",
       "      <td>1800</td>\n",
       "      <td>7503</td>\n",
       "      <td>0</td>\n",
       "    </tr>\n",
       "    <tr>\n",
       "      <th>5</th>\n",
       "      <td>2014</td>\n",
       "      <td>1230000.00</td>\n",
       "      <td>4</td>\n",
       "      <td>4.50</td>\n",
       "      <td>5420</td>\n",
       "      <td>101930</td>\n",
       "      <td>1.00</td>\n",
       "      <td>NONE</td>\n",
       "      <td>Average</td>\n",
       "      <td>11 Excellent</td>\n",
       "      <td>3890</td>\n",
       "      <td>1530.00</td>\n",
       "      <td>2001</td>\n",
       "      <td>0.00</td>\n",
       "      <td>4760</td>\n",
       "      <td>101930</td>\n",
       "      <td>0</td>\n",
       "    </tr>\n",
       "    <tr>\n",
       "      <th>...</th>\n",
       "      <td>...</td>\n",
       "      <td>...</td>\n",
       "      <td>...</td>\n",
       "      <td>...</td>\n",
       "      <td>...</td>\n",
       "      <td>...</td>\n",
       "      <td>...</td>\n",
       "      <td>...</td>\n",
       "      <td>...</td>\n",
       "      <td>...</td>\n",
       "      <td>...</td>\n",
       "      <td>...</td>\n",
       "      <td>...</td>\n",
       "      <td>...</td>\n",
       "      <td>...</td>\n",
       "      <td>...</td>\n",
       "      <td>...</td>\n",
       "    </tr>\n",
       "    <tr>\n",
       "      <th>21591</th>\n",
       "      <td>2015</td>\n",
       "      <td>475000.00</td>\n",
       "      <td>3</td>\n",
       "      <td>2.50</td>\n",
       "      <td>1310</td>\n",
       "      <td>1294</td>\n",
       "      <td>2.00</td>\n",
       "      <td>NONE</td>\n",
       "      <td>Average</td>\n",
       "      <td>8 Good</td>\n",
       "      <td>1180</td>\n",
       "      <td>130.00</td>\n",
       "      <td>2008</td>\n",
       "      <td>0.00</td>\n",
       "      <td>1330</td>\n",
       "      <td>1265</td>\n",
       "      <td>0</td>\n",
       "    </tr>\n",
       "    <tr>\n",
       "      <th>21592</th>\n",
       "      <td>2014</td>\n",
       "      <td>360000.00</td>\n",
       "      <td>3</td>\n",
       "      <td>2.50</td>\n",
       "      <td>1530</td>\n",
       "      <td>1131</td>\n",
       "      <td>3.00</td>\n",
       "      <td>NONE</td>\n",
       "      <td>Average</td>\n",
       "      <td>8 Good</td>\n",
       "      <td>1530</td>\n",
       "      <td>0.00</td>\n",
       "      <td>2009</td>\n",
       "      <td>0.00</td>\n",
       "      <td>1530</td>\n",
       "      <td>1509</td>\n",
       "      <td>0</td>\n",
       "    </tr>\n",
       "    <tr>\n",
       "      <th>21593</th>\n",
       "      <td>2015</td>\n",
       "      <td>400000.00</td>\n",
       "      <td>4</td>\n",
       "      <td>2.50</td>\n",
       "      <td>2310</td>\n",
       "      <td>5813</td>\n",
       "      <td>2.00</td>\n",
       "      <td>NONE</td>\n",
       "      <td>Average</td>\n",
       "      <td>8 Good</td>\n",
       "      <td>2310</td>\n",
       "      <td>0.00</td>\n",
       "      <td>2014</td>\n",
       "      <td>0.00</td>\n",
       "      <td>1830</td>\n",
       "      <td>7200</td>\n",
       "      <td>0</td>\n",
       "    </tr>\n",
       "    <tr>\n",
       "      <th>21594</th>\n",
       "      <td>2014</td>\n",
       "      <td>402101.00</td>\n",
       "      <td>2</td>\n",
       "      <td>0.75</td>\n",
       "      <td>1020</td>\n",
       "      <td>1350</td>\n",
       "      <td>2.00</td>\n",
       "      <td>NONE</td>\n",
       "      <td>Average</td>\n",
       "      <td>7 Average</td>\n",
       "      <td>1020</td>\n",
       "      <td>0.00</td>\n",
       "      <td>2009</td>\n",
       "      <td>0.00</td>\n",
       "      <td>1020</td>\n",
       "      <td>2007</td>\n",
       "      <td>0</td>\n",
       "    </tr>\n",
       "    <tr>\n",
       "      <th>21596</th>\n",
       "      <td>2014</td>\n",
       "      <td>325000.00</td>\n",
       "      <td>2</td>\n",
       "      <td>0.75</td>\n",
       "      <td>1020</td>\n",
       "      <td>1076</td>\n",
       "      <td>2.00</td>\n",
       "      <td>NONE</td>\n",
       "      <td>Average</td>\n",
       "      <td>7 Average</td>\n",
       "      <td>1020</td>\n",
       "      <td>0.00</td>\n",
       "      <td>2008</td>\n",
       "      <td>0.00</td>\n",
       "      <td>1020</td>\n",
       "      <td>1357</td>\n",
       "      <td>0</td>\n",
       "    </tr>\n",
       "  </tbody>\n",
       "</table>\n",
       "<p>19164 rows × 17 columns</p>\n",
       "</div>"
      ],
      "text/plain": [
       "       date      price  bedrooms  bathrooms  sqft_living  sqft_lot  floors  \\\n",
       "1      2014  538000.00         3       2.25         2570      7242    2.00   \n",
       "2      2015  180000.00         2       1.00          770     10000    1.00   \n",
       "3      2014  604000.00         4       3.00         1960      5000    1.00   \n",
       "4      2015  510000.00         3       2.00         1680      8080    1.00   \n",
       "5      2014 1230000.00         4       4.50         5420    101930    1.00   \n",
       "...     ...        ...       ...        ...          ...       ...     ...   \n",
       "21591  2015  475000.00         3       2.50         1310      1294    2.00   \n",
       "21592  2014  360000.00         3       2.50         1530      1131    3.00   \n",
       "21593  2015  400000.00         4       2.50         2310      5813    2.00   \n",
       "21594  2014  402101.00         2       0.75         1020      1350    2.00   \n",
       "21596  2014  325000.00         2       0.75         1020      1076    2.00   \n",
       "\n",
       "       view  condition          grade  sqft_above  sqft_basement  yr_built  \\\n",
       "1      NONE    Average      7 Average        2170         400.00      1951   \n",
       "2      NONE    Average  6 Low Average         770           0.00      1933   \n",
       "3      NONE  Very Good      7 Average        1050         910.00      1965   \n",
       "4      NONE    Average         8 Good        1680           0.00      1987   \n",
       "5      NONE    Average   11 Excellent        3890        1530.00      2001   \n",
       "...     ...        ...            ...         ...            ...       ...   \n",
       "21591  NONE    Average         8 Good        1180         130.00      2008   \n",
       "21592  NONE    Average         8 Good        1530           0.00      2009   \n",
       "21593  NONE    Average         8 Good        2310           0.00      2014   \n",
       "21594  NONE    Average      7 Average        1020           0.00      2009   \n",
       "21596  NONE    Average      7 Average        1020           0.00      2008   \n",
       "\n",
       "       yr_renovated  sqft_living15  sqft_lot15  wtf_YES  \n",
       "1           1991.00           1690        7639        0  \n",
       "2              0.00           2720        8062        0  \n",
       "3              0.00           1360        5000        0  \n",
       "4              0.00           1800        7503        0  \n",
       "5              0.00           4760      101930        0  \n",
       "...             ...            ...         ...      ...  \n",
       "21591          0.00           1330        1265        0  \n",
       "21592          0.00           1530        1509        0  \n",
       "21593          0.00           1830        7200        0  \n",
       "21594          0.00           1020        2007        0  \n",
       "21596          0.00           1020        1357        0  \n",
       "\n",
       "[19164 rows x 17 columns]"
      ]
     },
     "execution_count": 19,
     "metadata": {},
     "output_type": "execute_result"
    }
   ],
   "source": [
    "# Converting waterfront into dummy/indicator variables\n",
    "pd.get_dummies(df, prefix='wtf', columns=['waterfront'], drop_first=True)"
   ]
  },
  {
   "cell_type": "code",
   "execution_count": 20,
   "metadata": {},
   "outputs": [],
   "source": [
    "# Dropping original waterfront column\n",
    "df.drop(columns=['waterfront'], axis=1, inplace=True)"
   ]
  },
  {
   "cell_type": "code",
   "execution_count": 21,
   "metadata": {},
   "outputs": [
    {
     "data": {
      "text/html": [
       "<div>\n",
       "<style scoped>\n",
       "    .dataframe tbody tr th:only-of-type {\n",
       "        vertical-align: middle;\n",
       "    }\n",
       "\n",
       "    .dataframe tbody tr th {\n",
       "        vertical-align: top;\n",
       "    }\n",
       "\n",
       "    .dataframe thead th {\n",
       "        text-align: right;\n",
       "    }\n",
       "</style>\n",
       "<table border=\"1\" class=\"dataframe\">\n",
       "  <thead>\n",
       "    <tr style=\"text-align: right;\">\n",
       "      <th></th>\n",
       "      <th>1</th>\n",
       "      <th>2</th>\n",
       "      <th>3</th>\n",
       "      <th>4</th>\n",
       "      <th>5</th>\n",
       "    </tr>\n",
       "  </thead>\n",
       "  <tbody>\n",
       "    <tr>\n",
       "      <th>date</th>\n",
       "      <td>2014</td>\n",
       "      <td>2015</td>\n",
       "      <td>2014</td>\n",
       "      <td>2015</td>\n",
       "      <td>2014</td>\n",
       "    </tr>\n",
       "    <tr>\n",
       "      <th>price</th>\n",
       "      <td>538000.00</td>\n",
       "      <td>180000.00</td>\n",
       "      <td>604000.00</td>\n",
       "      <td>510000.00</td>\n",
       "      <td>1230000.00</td>\n",
       "    </tr>\n",
       "    <tr>\n",
       "      <th>bedrooms</th>\n",
       "      <td>3</td>\n",
       "      <td>2</td>\n",
       "      <td>4</td>\n",
       "      <td>3</td>\n",
       "      <td>4</td>\n",
       "    </tr>\n",
       "    <tr>\n",
       "      <th>bathrooms</th>\n",
       "      <td>2.25</td>\n",
       "      <td>1.00</td>\n",
       "      <td>3.00</td>\n",
       "      <td>2.00</td>\n",
       "      <td>4.50</td>\n",
       "    </tr>\n",
       "    <tr>\n",
       "      <th>sqft_living</th>\n",
       "      <td>2570</td>\n",
       "      <td>770</td>\n",
       "      <td>1960</td>\n",
       "      <td>1680</td>\n",
       "      <td>5420</td>\n",
       "    </tr>\n",
       "    <tr>\n",
       "      <th>sqft_lot</th>\n",
       "      <td>7242</td>\n",
       "      <td>10000</td>\n",
       "      <td>5000</td>\n",
       "      <td>8080</td>\n",
       "      <td>101930</td>\n",
       "    </tr>\n",
       "    <tr>\n",
       "      <th>floors</th>\n",
       "      <td>2.00</td>\n",
       "      <td>1.00</td>\n",
       "      <td>1.00</td>\n",
       "      <td>1.00</td>\n",
       "      <td>1.00</td>\n",
       "    </tr>\n",
       "    <tr>\n",
       "      <th>view</th>\n",
       "      <td>1</td>\n",
       "      <td>1</td>\n",
       "      <td>1</td>\n",
       "      <td>1</td>\n",
       "      <td>1</td>\n",
       "    </tr>\n",
       "    <tr>\n",
       "      <th>condition</th>\n",
       "      <td>3</td>\n",
       "      <td>3</td>\n",
       "      <td>5</td>\n",
       "      <td>3</td>\n",
       "      <td>3</td>\n",
       "    </tr>\n",
       "    <tr>\n",
       "      <th>grade</th>\n",
       "      <td>7 Average</td>\n",
       "      <td>6 Low Average</td>\n",
       "      <td>7 Average</td>\n",
       "      <td>8 Good</td>\n",
       "      <td>11 Excellent</td>\n",
       "    </tr>\n",
       "    <tr>\n",
       "      <th>sqft_above</th>\n",
       "      <td>2170</td>\n",
       "      <td>770</td>\n",
       "      <td>1050</td>\n",
       "      <td>1680</td>\n",
       "      <td>3890</td>\n",
       "    </tr>\n",
       "    <tr>\n",
       "      <th>sqft_basement</th>\n",
       "      <td>400.00</td>\n",
       "      <td>0.00</td>\n",
       "      <td>910.00</td>\n",
       "      <td>0.00</td>\n",
       "      <td>1530.00</td>\n",
       "    </tr>\n",
       "    <tr>\n",
       "      <th>yr_built</th>\n",
       "      <td>1951</td>\n",
       "      <td>1933</td>\n",
       "      <td>1965</td>\n",
       "      <td>1987</td>\n",
       "      <td>2001</td>\n",
       "    </tr>\n",
       "    <tr>\n",
       "      <th>yr_renovated</th>\n",
       "      <td>1991.00</td>\n",
       "      <td>0.00</td>\n",
       "      <td>0.00</td>\n",
       "      <td>0.00</td>\n",
       "      <td>0.00</td>\n",
       "    </tr>\n",
       "    <tr>\n",
       "      <th>sqft_living15</th>\n",
       "      <td>1690</td>\n",
       "      <td>2720</td>\n",
       "      <td>1360</td>\n",
       "      <td>1800</td>\n",
       "      <td>4760</td>\n",
       "    </tr>\n",
       "    <tr>\n",
       "      <th>sqft_lot15</th>\n",
       "      <td>7639</td>\n",
       "      <td>8062</td>\n",
       "      <td>5000</td>\n",
       "      <td>7503</td>\n",
       "      <td>101930</td>\n",
       "    </tr>\n",
       "  </tbody>\n",
       "</table>\n",
       "</div>"
      ],
      "text/plain": [
       "                       1              2          3         4             5\n",
       "date                2014           2015       2014      2015          2014\n",
       "price          538000.00      180000.00  604000.00 510000.00    1230000.00\n",
       "bedrooms               3              2          4         3             4\n",
       "bathrooms           2.25           1.00       3.00      2.00          4.50\n",
       "sqft_living         2570            770       1960      1680          5420\n",
       "sqft_lot            7242          10000       5000      8080        101930\n",
       "floors              2.00           1.00       1.00      1.00          1.00\n",
       "view                   1              1          1         1             1\n",
       "condition              3              3          5         3             3\n",
       "grade          7 Average  6 Low Average  7 Average    8 Good  11 Excellent\n",
       "sqft_above          2170            770       1050      1680          3890\n",
       "sqft_basement     400.00           0.00     910.00      0.00       1530.00\n",
       "yr_built            1951           1933       1965      1987          2001\n",
       "yr_renovated     1991.00           0.00       0.00      0.00          0.00\n",
       "sqft_living15       1690           2720       1360      1800          4760\n",
       "sqft_lot15          7639           8062       5000      7503        101930"
      ]
     },
     "execution_count": 21,
     "metadata": {},
     "output_type": "execute_result"
    }
   ],
   "source": [
    "# Ordinal encoding by assigning an integer value for each unique category \n",
    "cond_dic = {\"Poor\" : 1, \"Fair\" : 2, \"Average\": 3, \"Good\" : 4, \"Very Good\": 5}\n",
    "view_dic = {\"NONE\":1,'FAIR':2, \"AVERAGE\":3,\"GOOD\":4 , \"EXCELLENT\":5}\n",
    "df[\"condition\"] = df['condition'].map(cond_dic)\n",
    "df[\"view\"] = df['view'].map(view_dic)\n",
    "df.head().T"
   ]
  },
  {
   "cell_type": "code",
   "execution_count": 22,
   "metadata": {},
   "outputs": [],
   "source": [
    "# Extracting only numerical values of the column\n",
    "df['grade'] = df['grade'].str.split(\" \", n = 1, expand = True)\n"
   ]
  },
  {
   "cell_type": "code",
   "execution_count": 23,
   "metadata": {},
   "outputs": [],
   "source": [
    "# Changing dtype into float\n",
    "df['grade'] = df.grade.astype('float')"
   ]
  },
  {
   "cell_type": "code",
   "execution_count": 24,
   "metadata": {},
   "outputs": [
    {
     "name": "stdout",
     "output_type": "stream",
     "text": [
      "<class 'pandas.core.frame.DataFrame'>\n",
      "Int64Index: 19164 entries, 1 to 21596\n",
      "Data columns (total 16 columns):\n",
      " #   Column         Non-Null Count  Dtype  \n",
      "---  ------         --------------  -----  \n",
      " 0   date           19164 non-null  int64  \n",
      " 1   price          19164 non-null  float64\n",
      " 2   bedrooms       19164 non-null  int64  \n",
      " 3   bathrooms      19164 non-null  float64\n",
      " 4   sqft_living    19164 non-null  int64  \n",
      " 5   sqft_lot       19164 non-null  int64  \n",
      " 6   floors         19164 non-null  float64\n",
      " 7   view           19164 non-null  int64  \n",
      " 8   condition      19164 non-null  int64  \n",
      " 9   grade          19164 non-null  float64\n",
      " 10  sqft_above     19164 non-null  int64  \n",
      " 11  sqft_basement  19164 non-null  float64\n",
      " 12  yr_built       19164 non-null  int64  \n",
      " 13  yr_renovated   19164 non-null  float64\n",
      " 14  sqft_living15  19164 non-null  int64  \n",
      " 15  sqft_lot15     19164 non-null  int64  \n",
      "dtypes: float64(6), int64(10)\n",
      "memory usage: 2.5 MB\n"
     ]
    }
   ],
   "source": [
    "# Checking  for final DataFrame dtypes\n",
    "df.info()"
   ]
  },
  {
   "cell_type": "markdown",
   "metadata": {},
   "source": [
    "#### 4. Data Exploration (EDA)"
   ]
  },
  {
   "cell_type": "markdown",
   "metadata": {},
   "source": [
    "This section aims to to identify any potential issues (outliers ,unexpected entries etc) with the features and decide on how to handle those issues."
   ]
  },
  {
   "cell_type": "code",
   "execution_count": 25,
   "metadata": {},
   "outputs": [
    {
     "data": {
      "text/html": [
       "<div>\n",
       "<style scoped>\n",
       "    .dataframe tbody tr th:only-of-type {\n",
       "        vertical-align: middle;\n",
       "    }\n",
       "\n",
       "    .dataframe tbody tr th {\n",
       "        vertical-align: top;\n",
       "    }\n",
       "\n",
       "    .dataframe thead th {\n",
       "        text-align: right;\n",
       "    }\n",
       "</style>\n",
       "<table border=\"1\" class=\"dataframe\">\n",
       "  <thead>\n",
       "    <tr style=\"text-align: right;\">\n",
       "      <th></th>\n",
       "      <th>date</th>\n",
       "      <th>price</th>\n",
       "      <th>bedrooms</th>\n",
       "      <th>bathrooms</th>\n",
       "      <th>sqft_living</th>\n",
       "      <th>sqft_lot</th>\n",
       "      <th>floors</th>\n",
       "      <th>view</th>\n",
       "      <th>condition</th>\n",
       "      <th>grade</th>\n",
       "      <th>sqft_above</th>\n",
       "      <th>sqft_basement</th>\n",
       "      <th>yr_built</th>\n",
       "      <th>yr_renovated</th>\n",
       "      <th>sqft_living15</th>\n",
       "      <th>sqft_lot15</th>\n",
       "    </tr>\n",
       "  </thead>\n",
       "  <tbody>\n",
       "    <tr>\n",
       "      <th>count</th>\n",
       "      <td>19164.00</td>\n",
       "      <td>19164.00</td>\n",
       "      <td>19164.00</td>\n",
       "      <td>19164.00</td>\n",
       "      <td>19164.00</td>\n",
       "      <td>19164.00</td>\n",
       "      <td>19164.00</td>\n",
       "      <td>19164.00</td>\n",
       "      <td>19164.00</td>\n",
       "      <td>19164.00</td>\n",
       "      <td>19164.00</td>\n",
       "      <td>19164.00</td>\n",
       "      <td>19164.00</td>\n",
       "      <td>19164.00</td>\n",
       "      <td>19164.00</td>\n",
       "      <td>19164.00</td>\n",
       "    </tr>\n",
       "    <tr>\n",
       "      <th>mean</th>\n",
       "      <td>2014.32</td>\n",
       "      <td>541448.96</td>\n",
       "      <td>3.37</td>\n",
       "      <td>2.12</td>\n",
       "      <td>2082.04</td>\n",
       "      <td>15061.74</td>\n",
       "      <td>1.50</td>\n",
       "      <td>1.23</td>\n",
       "      <td>3.41</td>\n",
       "      <td>7.66</td>\n",
       "      <td>1791.43</td>\n",
       "      <td>284.38</td>\n",
       "      <td>1971.04</td>\n",
       "      <td>67.81</td>\n",
       "      <td>1987.22</td>\n",
       "      <td>12797.65</td>\n",
       "    </tr>\n",
       "    <tr>\n",
       "      <th>std</th>\n",
       "      <td>0.47</td>\n",
       "      <td>370900.94</td>\n",
       "      <td>0.93</td>\n",
       "      <td>0.77</td>\n",
       "      <td>921.92</td>\n",
       "      <td>40772.15</td>\n",
       "      <td>0.54</td>\n",
       "      <td>0.76</td>\n",
       "      <td>0.65</td>\n",
       "      <td>1.18</td>\n",
       "      <td>831.78</td>\n",
       "      <td>439.44</td>\n",
       "      <td>29.39</td>\n",
       "      <td>361.61</td>\n",
       "      <td>684.79</td>\n",
       "      <td>27552.63</td>\n",
       "    </tr>\n",
       "    <tr>\n",
       "      <th>min</th>\n",
       "      <td>2014.00</td>\n",
       "      <td>78000.00</td>\n",
       "      <td>1.00</td>\n",
       "      <td>0.50</td>\n",
       "      <td>370.00</td>\n",
       "      <td>520.00</td>\n",
       "      <td>1.00</td>\n",
       "      <td>1.00</td>\n",
       "      <td>1.00</td>\n",
       "      <td>3.00</td>\n",
       "      <td>370.00</td>\n",
       "      <td>0.00</td>\n",
       "      <td>1900.00</td>\n",
       "      <td>0.00</td>\n",
       "      <td>399.00</td>\n",
       "      <td>651.00</td>\n",
       "    </tr>\n",
       "    <tr>\n",
       "      <th>25%</th>\n",
       "      <td>2014.00</td>\n",
       "      <td>322000.00</td>\n",
       "      <td>3.00</td>\n",
       "      <td>1.75</td>\n",
       "      <td>1430.00</td>\n",
       "      <td>5040.00</td>\n",
       "      <td>1.00</td>\n",
       "      <td>1.00</td>\n",
       "      <td>3.00</td>\n",
       "      <td>7.00</td>\n",
       "      <td>1200.00</td>\n",
       "      <td>0.00</td>\n",
       "      <td>1951.00</td>\n",
       "      <td>0.00</td>\n",
       "      <td>1490.00</td>\n",
       "      <td>5100.00</td>\n",
       "    </tr>\n",
       "    <tr>\n",
       "      <th>50%</th>\n",
       "      <td>2014.00</td>\n",
       "      <td>450000.00</td>\n",
       "      <td>3.00</td>\n",
       "      <td>2.25</td>\n",
       "      <td>1920.00</td>\n",
       "      <td>7620.00</td>\n",
       "      <td>1.50</td>\n",
       "      <td>1.00</td>\n",
       "      <td>3.00</td>\n",
       "      <td>7.00</td>\n",
       "      <td>1560.00</td>\n",
       "      <td>0.00</td>\n",
       "      <td>1975.00</td>\n",
       "      <td>0.00</td>\n",
       "      <td>1840.00</td>\n",
       "      <td>7620.00</td>\n",
       "    </tr>\n",
       "    <tr>\n",
       "      <th>75%</th>\n",
       "      <td>2015.00</td>\n",
       "      <td>643962.50</td>\n",
       "      <td>4.00</td>\n",
       "      <td>2.50</td>\n",
       "      <td>2550.00</td>\n",
       "      <td>10720.00</td>\n",
       "      <td>2.00</td>\n",
       "      <td>1.00</td>\n",
       "      <td>4.00</td>\n",
       "      <td>8.00</td>\n",
       "      <td>2217.75</td>\n",
       "      <td>540.00</td>\n",
       "      <td>1997.00</td>\n",
       "      <td>0.00</td>\n",
       "      <td>2360.00</td>\n",
       "      <td>10093.25</td>\n",
       "    </tr>\n",
       "    <tr>\n",
       "      <th>max</th>\n",
       "      <td>2015.00</td>\n",
       "      <td>7700000.00</td>\n",
       "      <td>33.00</td>\n",
       "      <td>8.00</td>\n",
       "      <td>13540.00</td>\n",
       "      <td>1651359.00</td>\n",
       "      <td>3.50</td>\n",
       "      <td>5.00</td>\n",
       "      <td>5.00</td>\n",
       "      <td>13.00</td>\n",
       "      <td>9410.00</td>\n",
       "      <td>4820.00</td>\n",
       "      <td>2015.00</td>\n",
       "      <td>2015.00</td>\n",
       "      <td>6210.00</td>\n",
       "      <td>871200.00</td>\n",
       "    </tr>\n",
       "  </tbody>\n",
       "</table>\n",
       "</div>"
      ],
      "text/plain": [
       "          date      price  bedrooms  bathrooms  sqft_living   sqft_lot  \\\n",
       "count 19164.00   19164.00  19164.00   19164.00     19164.00   19164.00   \n",
       "mean   2014.32  541448.96      3.37       2.12      2082.04   15061.74   \n",
       "std       0.47  370900.94      0.93       0.77       921.92   40772.15   \n",
       "min    2014.00   78000.00      1.00       0.50       370.00     520.00   \n",
       "25%    2014.00  322000.00      3.00       1.75      1430.00    5040.00   \n",
       "50%    2014.00  450000.00      3.00       2.25      1920.00    7620.00   \n",
       "75%    2015.00  643962.50      4.00       2.50      2550.00   10720.00   \n",
       "max    2015.00 7700000.00     33.00       8.00     13540.00 1651359.00   \n",
       "\n",
       "        floors     view  condition    grade  sqft_above  sqft_basement  \\\n",
       "count 19164.00 19164.00   19164.00 19164.00    19164.00       19164.00   \n",
       "mean      1.50     1.23       3.41     7.66     1791.43         284.38   \n",
       "std       0.54     0.76       0.65     1.18      831.78         439.44   \n",
       "min       1.00     1.00       1.00     3.00      370.00           0.00   \n",
       "25%       1.00     1.00       3.00     7.00     1200.00           0.00   \n",
       "50%       1.50     1.00       3.00     7.00     1560.00           0.00   \n",
       "75%       2.00     1.00       4.00     8.00     2217.75         540.00   \n",
       "max       3.50     5.00       5.00    13.00     9410.00        4820.00   \n",
       "\n",
       "       yr_built  yr_renovated  sqft_living15  sqft_lot15  \n",
       "count  19164.00      19164.00       19164.00    19164.00  \n",
       "mean    1971.04         67.81        1987.22    12797.65  \n",
       "std       29.39        361.61         684.79    27552.63  \n",
       "min     1900.00          0.00         399.00      651.00  \n",
       "25%     1951.00          0.00        1490.00     5100.00  \n",
       "50%     1975.00          0.00        1840.00     7620.00  \n",
       "75%     1997.00          0.00        2360.00    10093.25  \n",
       "max     2015.00       2015.00        6210.00   871200.00  "
      ]
     },
     "execution_count": 25,
     "metadata": {},
     "output_type": "execute_result"
    }
   ],
   "source": [
    "# 5 Point Statistical Summary\n",
    "df.describe()"
   ]
  },
  {
   "cell_type": "code",
   "execution_count": 26,
   "metadata": {},
   "outputs": [
    {
     "data": {
      "text/plain": [
       "array([1991.,    0., 2002., 2010., 1992., 2013., 1994., 1978., 2005.,\n",
       "       2003., 1984., 1954., 2014., 2011., 1983., 1990., 1988., 1977.,\n",
       "       1981., 1995., 2000., 1999., 1998., 1970., 1989., 2004., 1986.,\n",
       "       2007., 1987., 2006., 1985., 2001., 1980., 1971., 1945., 1979.,\n",
       "       1997., 1950., 1969., 1948., 2009., 2015., 2008., 2012., 1968.,\n",
       "       1963., 1951., 1962., 1953., 1993., 1955., 1996., 1982., 1956.,\n",
       "       1940., 1976., 1946., 1975., 1964., 1973., 1957., 1959., 1960.,\n",
       "       1965., 1967., 1934., 1972., 1944., 1958., 1974.])"
      ]
     },
     "execution_count": 26,
     "metadata": {},
     "output_type": "execute_result"
    }
   ],
   "source": [
    "df.yr_renovated.unique()"
   ]
  },
  {
   "cell_type": "markdown",
   "metadata": {},
   "source": [
    "We can filter  `yr_renovated` values by dividing them into binary categories. \n"
   ]
  },
  {
   "cell_type": "code",
   "execution_count": 27,
   "metadata": {},
   "outputs": [],
   "source": [
    "# Dividing values in yr_renovation to boolean  (renovated: True-1, not renovated:0)\n",
    "df['yr_renovated']= df['yr_renovated'].apply(lambda x: 1 if x > 0 else 0)"
   ]
  },
  {
   "cell_type": "code",
   "execution_count": 28,
   "metadata": {},
   "outputs": [
    {
     "data": {
      "text/plain": [
       "0    18513\n",
       "1      651\n",
       "Name: yr_renovated, dtype: int64"
      ]
     },
     "execution_count": 28,
     "metadata": {},
     "output_type": "execute_result"
    }
   ],
   "source": [
    "df['yr_renovated'].value_counts()"
   ]
  },
  {
   "cell_type": "markdown",
   "metadata": {},
   "source": [
    "Based on the given columns `year_sold` `yr_built` we can create new column that show the house_age"
   ]
  },
  {
   "cell_type": "code",
   "execution_count": 29,
   "metadata": {},
   "outputs": [
    {
     "data": {
      "text/html": [
       "<div>\n",
       "<style scoped>\n",
       "    .dataframe tbody tr th:only-of-type {\n",
       "        vertical-align: middle;\n",
       "    }\n",
       "\n",
       "    .dataframe tbody tr th {\n",
       "        vertical-align: top;\n",
       "    }\n",
       "\n",
       "    .dataframe thead th {\n",
       "        text-align: right;\n",
       "    }\n",
       "</style>\n",
       "<table border=\"1\" class=\"dataframe\">\n",
       "  <thead>\n",
       "    <tr style=\"text-align: right;\">\n",
       "      <th></th>\n",
       "      <th>date</th>\n",
       "      <th>price</th>\n",
       "      <th>bedrooms</th>\n",
       "      <th>bathrooms</th>\n",
       "      <th>sqft_living</th>\n",
       "      <th>sqft_lot</th>\n",
       "      <th>floors</th>\n",
       "      <th>view</th>\n",
       "      <th>condition</th>\n",
       "      <th>grade</th>\n",
       "      <th>sqft_above</th>\n",
       "      <th>sqft_basement</th>\n",
       "      <th>yr_built</th>\n",
       "      <th>yr_renovated</th>\n",
       "      <th>sqft_living15</th>\n",
       "      <th>sqft_lot15</th>\n",
       "    </tr>\n",
       "  </thead>\n",
       "  <tbody>\n",
       "    <tr>\n",
       "      <th>1</th>\n",
       "      <td>2014</td>\n",
       "      <td>538000.00</td>\n",
       "      <td>3</td>\n",
       "      <td>2.25</td>\n",
       "      <td>2570</td>\n",
       "      <td>7242</td>\n",
       "      <td>2.00</td>\n",
       "      <td>1</td>\n",
       "      <td>3</td>\n",
       "      <td>7.00</td>\n",
       "      <td>2170</td>\n",
       "      <td>400.00</td>\n",
       "      <td>1951</td>\n",
       "      <td>1</td>\n",
       "      <td>1690</td>\n",
       "      <td>7639</td>\n",
       "    </tr>\n",
       "    <tr>\n",
       "      <th>2</th>\n",
       "      <td>2015</td>\n",
       "      <td>180000.00</td>\n",
       "      <td>2</td>\n",
       "      <td>1.00</td>\n",
       "      <td>770</td>\n",
       "      <td>10000</td>\n",
       "      <td>1.00</td>\n",
       "      <td>1</td>\n",
       "      <td>3</td>\n",
       "      <td>6.00</td>\n",
       "      <td>770</td>\n",
       "      <td>0.00</td>\n",
       "      <td>1933</td>\n",
       "      <td>0</td>\n",
       "      <td>2720</td>\n",
       "      <td>8062</td>\n",
       "    </tr>\n",
       "    <tr>\n",
       "      <th>3</th>\n",
       "      <td>2014</td>\n",
       "      <td>604000.00</td>\n",
       "      <td>4</td>\n",
       "      <td>3.00</td>\n",
       "      <td>1960</td>\n",
       "      <td>5000</td>\n",
       "      <td>1.00</td>\n",
       "      <td>1</td>\n",
       "      <td>5</td>\n",
       "      <td>7.00</td>\n",
       "      <td>1050</td>\n",
       "      <td>910.00</td>\n",
       "      <td>1965</td>\n",
       "      <td>0</td>\n",
       "      <td>1360</td>\n",
       "      <td>5000</td>\n",
       "    </tr>\n",
       "  </tbody>\n",
       "</table>\n",
       "</div>"
      ],
      "text/plain": [
       "   date     price  bedrooms  bathrooms  sqft_living  sqft_lot  floors  view  \\\n",
       "1  2014 538000.00         3       2.25         2570      7242    2.00     1   \n",
       "2  2015 180000.00         2       1.00          770     10000    1.00     1   \n",
       "3  2014 604000.00         4       3.00         1960      5000    1.00     1   \n",
       "\n",
       "   condition  grade  sqft_above  sqft_basement  yr_built  yr_renovated  \\\n",
       "1          3   7.00        2170         400.00      1951             1   \n",
       "2          3   6.00         770           0.00      1933             0   \n",
       "3          5   7.00        1050         910.00      1965             0   \n",
       "\n",
       "   sqft_living15  sqft_lot15  \n",
       "1           1690        7639  \n",
       "2           2720        8062  \n",
       "3           1360        5000  "
      ]
     },
     "execution_count": 29,
     "metadata": {},
     "output_type": "execute_result"
    }
   ],
   "source": [
    "df.head(3)"
   ]
  },
  {
   "cell_type": "code",
   "execution_count": 30,
   "metadata": {},
   "outputs": [
    {
     "data": {
      "text/plain": [
       "array([2014, 2015], dtype=int64)"
      ]
     },
     "execution_count": 30,
     "metadata": {},
     "output_type": "execute_result"
    }
   ],
   "source": [
    "# Looking for unique values\n",
    "df.date.unique()"
   ]
  },
  {
   "cell_type": "code",
   "execution_count": 31,
   "metadata": {},
   "outputs": [
    {
     "data": {
      "text/plain": [
       "array([1951, 1933, 1965, 1987, 2001, 1995, 1960, 2003, 1942, 1927, 1977,\n",
       "       1900, 1979, 1994, 1916, 1921, 1969, 1947, 1968, 1985, 1941, 1915,\n",
       "       1909, 1948, 2005, 1929, 1981, 1930, 1904, 1996, 1984, 2014, 1922,\n",
       "       1959, 1966, 1953, 1955, 1950, 2008, 1991, 1954, 1925, 1973, 1972,\n",
       "       1986, 1956, 2002, 1992, 1964, 1952, 1961, 2006, 1988, 1962, 1939,\n",
       "       1946, 1967, 1975, 1980, 1910, 1983, 1905, 1971, 2010, 1945, 1990,\n",
       "       1914, 1978, 1926, 1989, 1923, 2007, 2000, 1976, 1949, 1999, 1901,\n",
       "       1993, 1920, 1997, 2004, 1940, 1918, 1928, 1974, 1911, 1936, 1937,\n",
       "       1982, 1908, 1931, 1963, 1957, 1998, 1913, 1943, 2013, 1924, 1958,\n",
       "       2011, 1932, 1902, 2009, 1903, 1944, 1970, 2015, 2012, 1934, 1912,\n",
       "       1938, 1919, 1917, 1906, 1907, 1935], dtype=int64)"
      ]
     },
     "execution_count": 31,
     "metadata": {},
     "output_type": "execute_result"
    }
   ],
   "source": [
    "# Looking for unique values\n",
    "df.yr_built.unique()"
   ]
  },
  {
   "cell_type": "code",
   "execution_count": 32,
   "metadata": {},
   "outputs": [],
   "source": [
    "# Calculating house age based on the house sold/build years\n",
    "df['house_age'] = df['date'] - df['yr_built']\n",
    "\n",
    "# Dropping the original columns within dataset\n",
    "df.drop(columns=['date', 'yr_built'], axis=1, inplace=True) "
   ]
  },
  {
   "cell_type": "code",
   "execution_count": 33,
   "metadata": {},
   "outputs": [
    {
     "data": {
      "text/html": [
       "<div>\n",
       "<style scoped>\n",
       "    .dataframe tbody tr th:only-of-type {\n",
       "        vertical-align: middle;\n",
       "    }\n",
       "\n",
       "    .dataframe tbody tr th {\n",
       "        vertical-align: top;\n",
       "    }\n",
       "\n",
       "    .dataframe thead th {\n",
       "        text-align: right;\n",
       "    }\n",
       "</style>\n",
       "<table border=\"1\" class=\"dataframe\">\n",
       "  <thead>\n",
       "    <tr style=\"text-align: right;\">\n",
       "      <th></th>\n",
       "      <th>price</th>\n",
       "      <th>bedrooms</th>\n",
       "      <th>bathrooms</th>\n",
       "      <th>sqft_living</th>\n",
       "      <th>sqft_lot</th>\n",
       "      <th>floors</th>\n",
       "      <th>view</th>\n",
       "      <th>condition</th>\n",
       "      <th>grade</th>\n",
       "      <th>sqft_above</th>\n",
       "      <th>sqft_basement</th>\n",
       "      <th>yr_renovated</th>\n",
       "      <th>sqft_living15</th>\n",
       "      <th>sqft_lot15</th>\n",
       "      <th>house_age</th>\n",
       "    </tr>\n",
       "  </thead>\n",
       "  <tbody>\n",
       "    <tr>\n",
       "      <th>1</th>\n",
       "      <td>538000.00</td>\n",
       "      <td>3</td>\n",
       "      <td>2.25</td>\n",
       "      <td>2570</td>\n",
       "      <td>7242</td>\n",
       "      <td>2.00</td>\n",
       "      <td>1</td>\n",
       "      <td>3</td>\n",
       "      <td>7.00</td>\n",
       "      <td>2170</td>\n",
       "      <td>400.00</td>\n",
       "      <td>1</td>\n",
       "      <td>1690</td>\n",
       "      <td>7639</td>\n",
       "      <td>63</td>\n",
       "    </tr>\n",
       "    <tr>\n",
       "      <th>2</th>\n",
       "      <td>180000.00</td>\n",
       "      <td>2</td>\n",
       "      <td>1.00</td>\n",
       "      <td>770</td>\n",
       "      <td>10000</td>\n",
       "      <td>1.00</td>\n",
       "      <td>1</td>\n",
       "      <td>3</td>\n",
       "      <td>6.00</td>\n",
       "      <td>770</td>\n",
       "      <td>0.00</td>\n",
       "      <td>0</td>\n",
       "      <td>2720</td>\n",
       "      <td>8062</td>\n",
       "      <td>82</td>\n",
       "    </tr>\n",
       "    <tr>\n",
       "      <th>3</th>\n",
       "      <td>604000.00</td>\n",
       "      <td>4</td>\n",
       "      <td>3.00</td>\n",
       "      <td>1960</td>\n",
       "      <td>5000</td>\n",
       "      <td>1.00</td>\n",
       "      <td>1</td>\n",
       "      <td>5</td>\n",
       "      <td>7.00</td>\n",
       "      <td>1050</td>\n",
       "      <td>910.00</td>\n",
       "      <td>0</td>\n",
       "      <td>1360</td>\n",
       "      <td>5000</td>\n",
       "      <td>49</td>\n",
       "    </tr>\n",
       "  </tbody>\n",
       "</table>\n",
       "</div>"
      ],
      "text/plain": [
       "      price  bedrooms  bathrooms  sqft_living  sqft_lot  floors  view  \\\n",
       "1 538000.00         3       2.25         2570      7242    2.00     1   \n",
       "2 180000.00         2       1.00          770     10000    1.00     1   \n",
       "3 604000.00         4       3.00         1960      5000    1.00     1   \n",
       "\n",
       "   condition  grade  sqft_above  sqft_basement  yr_renovated  sqft_living15  \\\n",
       "1          3   7.00        2170         400.00             1           1690   \n",
       "2          3   6.00         770           0.00             0           2720   \n",
       "3          5   7.00        1050         910.00             0           1360   \n",
       "\n",
       "   sqft_lot15  house_age  \n",
       "1        7639         63  \n",
       "2        8062         82  \n",
       "3        5000         49  "
      ]
     },
     "execution_count": 33,
     "metadata": {},
     "output_type": "execute_result"
    }
   ],
   "source": [
    "# Getting the first 3 row\n",
    "df.head(3)"
   ]
  },
  {
   "cell_type": "markdown",
   "metadata": {},
   "source": [
    "##### 4.1 Outliers"
   ]
  },
  {
   "cell_type": "code",
   "execution_count": 34,
   "metadata": {},
   "outputs": [
    {
     "data": {
      "text/html": [
       "<div>\n",
       "<style scoped>\n",
       "    .dataframe tbody tr th:only-of-type {\n",
       "        vertical-align: middle;\n",
       "    }\n",
       "\n",
       "    .dataframe tbody tr th {\n",
       "        vertical-align: top;\n",
       "    }\n",
       "\n",
       "    .dataframe thead th {\n",
       "        text-align: right;\n",
       "    }\n",
       "</style>\n",
       "<table border=\"1\" class=\"dataframe\">\n",
       "  <thead>\n",
       "    <tr style=\"text-align: right;\">\n",
       "      <th></th>\n",
       "      <th>price</th>\n",
       "      <th>bedrooms</th>\n",
       "      <th>bathrooms</th>\n",
       "      <th>sqft_living</th>\n",
       "      <th>sqft_lot</th>\n",
       "      <th>floors</th>\n",
       "      <th>view</th>\n",
       "      <th>condition</th>\n",
       "      <th>grade</th>\n",
       "      <th>sqft_above</th>\n",
       "      <th>sqft_basement</th>\n",
       "      <th>yr_renovated</th>\n",
       "      <th>sqft_living15</th>\n",
       "      <th>sqft_lot15</th>\n",
       "      <th>house_age</th>\n",
       "    </tr>\n",
       "  </thead>\n",
       "  <tbody>\n",
       "    <tr>\n",
       "      <th>count</th>\n",
       "      <td>19164.00</td>\n",
       "      <td>19164.00</td>\n",
       "      <td>19164.00</td>\n",
       "      <td>19164.00</td>\n",
       "      <td>19164.00</td>\n",
       "      <td>19164.00</td>\n",
       "      <td>19164.00</td>\n",
       "      <td>19164.00</td>\n",
       "      <td>19164.00</td>\n",
       "      <td>19164.00</td>\n",
       "      <td>19164.00</td>\n",
       "      <td>19164.00</td>\n",
       "      <td>19164.00</td>\n",
       "      <td>19164.00</td>\n",
       "      <td>19164.00</td>\n",
       "    </tr>\n",
       "    <tr>\n",
       "      <th>mean</th>\n",
       "      <td>541448.96</td>\n",
       "      <td>3.37</td>\n",
       "      <td>2.12</td>\n",
       "      <td>2082.04</td>\n",
       "      <td>15061.74</td>\n",
       "      <td>1.50</td>\n",
       "      <td>1.23</td>\n",
       "      <td>3.41</td>\n",
       "      <td>7.66</td>\n",
       "      <td>1791.43</td>\n",
       "      <td>284.38</td>\n",
       "      <td>0.03</td>\n",
       "      <td>1987.22</td>\n",
       "      <td>12797.65</td>\n",
       "      <td>43.28</td>\n",
       "    </tr>\n",
       "    <tr>\n",
       "      <th>std</th>\n",
       "      <td>370900.94</td>\n",
       "      <td>0.93</td>\n",
       "      <td>0.77</td>\n",
       "      <td>921.92</td>\n",
       "      <td>40772.15</td>\n",
       "      <td>0.54</td>\n",
       "      <td>0.76</td>\n",
       "      <td>0.65</td>\n",
       "      <td>1.18</td>\n",
       "      <td>831.78</td>\n",
       "      <td>439.44</td>\n",
       "      <td>0.18</td>\n",
       "      <td>684.79</td>\n",
       "      <td>27552.63</td>\n",
       "      <td>29.39</td>\n",
       "    </tr>\n",
       "    <tr>\n",
       "      <th>min</th>\n",
       "      <td>78000.00</td>\n",
       "      <td>1.00</td>\n",
       "      <td>0.50</td>\n",
       "      <td>370.00</td>\n",
       "      <td>520.00</td>\n",
       "      <td>1.00</td>\n",
       "      <td>1.00</td>\n",
       "      <td>1.00</td>\n",
       "      <td>3.00</td>\n",
       "      <td>370.00</td>\n",
       "      <td>0.00</td>\n",
       "      <td>0.00</td>\n",
       "      <td>399.00</td>\n",
       "      <td>651.00</td>\n",
       "      <td>-1.00</td>\n",
       "    </tr>\n",
       "    <tr>\n",
       "      <th>25%</th>\n",
       "      <td>322000.00</td>\n",
       "      <td>3.00</td>\n",
       "      <td>1.75</td>\n",
       "      <td>1430.00</td>\n",
       "      <td>5040.00</td>\n",
       "      <td>1.00</td>\n",
       "      <td>1.00</td>\n",
       "      <td>3.00</td>\n",
       "      <td>7.00</td>\n",
       "      <td>1200.00</td>\n",
       "      <td>0.00</td>\n",
       "      <td>0.00</td>\n",
       "      <td>1490.00</td>\n",
       "      <td>5100.00</td>\n",
       "      <td>18.00</td>\n",
       "    </tr>\n",
       "    <tr>\n",
       "      <th>50%</th>\n",
       "      <td>450000.00</td>\n",
       "      <td>3.00</td>\n",
       "      <td>2.25</td>\n",
       "      <td>1920.00</td>\n",
       "      <td>7620.00</td>\n",
       "      <td>1.50</td>\n",
       "      <td>1.00</td>\n",
       "      <td>3.00</td>\n",
       "      <td>7.00</td>\n",
       "      <td>1560.00</td>\n",
       "      <td>0.00</td>\n",
       "      <td>0.00</td>\n",
       "      <td>1840.00</td>\n",
       "      <td>7620.00</td>\n",
       "      <td>39.00</td>\n",
       "    </tr>\n",
       "    <tr>\n",
       "      <th>75%</th>\n",
       "      <td>643962.50</td>\n",
       "      <td>4.00</td>\n",
       "      <td>2.50</td>\n",
       "      <td>2550.00</td>\n",
       "      <td>10720.00</td>\n",
       "      <td>2.00</td>\n",
       "      <td>1.00</td>\n",
       "      <td>4.00</td>\n",
       "      <td>8.00</td>\n",
       "      <td>2217.75</td>\n",
       "      <td>540.00</td>\n",
       "      <td>0.00</td>\n",
       "      <td>2360.00</td>\n",
       "      <td>10093.25</td>\n",
       "      <td>63.00</td>\n",
       "    </tr>\n",
       "    <tr>\n",
       "      <th>max</th>\n",
       "      <td>7700000.00</td>\n",
       "      <td>33.00</td>\n",
       "      <td>8.00</td>\n",
       "      <td>13540.00</td>\n",
       "      <td>1651359.00</td>\n",
       "      <td>3.50</td>\n",
       "      <td>5.00</td>\n",
       "      <td>5.00</td>\n",
       "      <td>13.00</td>\n",
       "      <td>9410.00</td>\n",
       "      <td>4820.00</td>\n",
       "      <td>1.00</td>\n",
       "      <td>6210.00</td>\n",
       "      <td>871200.00</td>\n",
       "      <td>115.00</td>\n",
       "    </tr>\n",
       "  </tbody>\n",
       "</table>\n",
       "</div>"
      ],
      "text/plain": [
       "           price  bedrooms  bathrooms  sqft_living   sqft_lot   floors  \\\n",
       "count   19164.00  19164.00   19164.00     19164.00   19164.00 19164.00   \n",
       "mean   541448.96      3.37       2.12      2082.04   15061.74     1.50   \n",
       "std    370900.94      0.93       0.77       921.92   40772.15     0.54   \n",
       "min     78000.00      1.00       0.50       370.00     520.00     1.00   \n",
       "25%    322000.00      3.00       1.75      1430.00    5040.00     1.00   \n",
       "50%    450000.00      3.00       2.25      1920.00    7620.00     1.50   \n",
       "75%    643962.50      4.00       2.50      2550.00   10720.00     2.00   \n",
       "max   7700000.00     33.00       8.00     13540.00 1651359.00     3.50   \n",
       "\n",
       "          view  condition    grade  sqft_above  sqft_basement  yr_renovated  \\\n",
       "count 19164.00   19164.00 19164.00    19164.00       19164.00      19164.00   \n",
       "mean      1.23       3.41     7.66     1791.43         284.38          0.03   \n",
       "std       0.76       0.65     1.18      831.78         439.44          0.18   \n",
       "min       1.00       1.00     3.00      370.00           0.00          0.00   \n",
       "25%       1.00       3.00     7.00     1200.00           0.00          0.00   \n",
       "50%       1.00       3.00     7.00     1560.00           0.00          0.00   \n",
       "75%       1.00       4.00     8.00     2217.75         540.00          0.00   \n",
       "max       5.00       5.00    13.00     9410.00        4820.00          1.00   \n",
       "\n",
       "       sqft_living15  sqft_lot15  house_age  \n",
       "count       19164.00    19164.00   19164.00  \n",
       "mean         1987.22    12797.65      43.28  \n",
       "std           684.79    27552.63      29.39  \n",
       "min           399.00      651.00      -1.00  \n",
       "25%          1490.00     5100.00      18.00  \n",
       "50%          1840.00     7620.00      39.00  \n",
       "75%          2360.00    10093.25      63.00  \n",
       "max          6210.00   871200.00     115.00  "
      ]
     },
     "execution_count": 34,
     "metadata": {},
     "output_type": "execute_result"
    }
   ],
   "source": [
    "# 5 point statistical summary\n",
    "df.describe()"
   ]
  },
  {
   "cell_type": "code",
   "execution_count": 35,
   "metadata": {},
   "outputs": [
    {
     "data": {
      "text/plain": [
       "(19164, 15)"
      ]
     },
     "execution_count": 35,
     "metadata": {},
     "output_type": "execute_result"
    }
   ],
   "source": [
    "# Getting the current shape of an array\n",
    "df.shape"
   ]
  },
  {
   "cell_type": "markdown",
   "metadata": {},
   "source": [
    "We will visualize our data with a box plot, so we can see the data distribution at a glance. This type of chart highlights minimum and maximum values (the range), the median, and the interquartile range for our data."
   ]
  },
  {
   "cell_type": "code",
   "execution_count": null,
   "metadata": {
    "scrolled": true
   },
   "outputs": [],
   "source": [
    "# Defining our outliers as a green underscore circle\n",
    "green_circle = dict(markerfacecolor='seagreen', marker='o', markeredgecolor='white')\n",
    "\n",
    "# Setting the figsize to 28 by 8.\n",
    "fig, axs = plt.subplots(1, len(df.columns), figsize=(28,8))\n",
    "\n",
    "# Creating a small for loop which will loop over each of our plot axes\n",
    "for i, ax in enumerate(axs.flat):\n",
    "    \n",
    "    # specifying our outlier properties and pass in green_circle.\n",
    "    ax.boxplot(df.iloc[:,i], flierprops=green_circle)\n",
    "    df.iloc[:,i]\n",
    "    ax.set_title(df.columns[i], fontsize=17, fontweight='bold')\n",
    "    ax.tick_params(axis='y', labelsize=12)\n",
    "    \n",
    "# spacing out the plots in a nice way\n",
    "plt.tight_layout()"
   ]
  },
  {
   "cell_type": "markdown",
   "metadata": {},
   "source": [
    "We can remove some extrem outliers by keeping only those data points that fall under the 3 standard deviations"
   ]
  },
  {
   "cell_type": "code",
   "execution_count": null,
   "metadata": {},
   "outputs": [],
   "source": [
    "#  Getting a NumPy array containing the z-score of each value\n",
    "z_scores = stats.zscore(df[['price','bedrooms', 'bathrooms','sqft_lot',\n",
    "                            'sqft_above','sqft_basement','sqft_living',\n",
    "                            'sqft_living15','sqft_lot15']])\n",
    "\n",
    "# Creating a boolean array and filtering the original DataFrame with this result\n",
    "final_df = df[(np.abs(z_scores) < 3).all(axis=1)] \n"
   ]
  },
  {
   "cell_type": "code",
   "execution_count": null,
   "metadata": {},
   "outputs": [],
   "source": [
    "# Final DataFrame 5 point statistics\n",
    "final_df.describe()"
   ]
  },
  {
   "cell_type": "code",
   "execution_count": null,
   "metadata": {},
   "outputs": [],
   "source": [
    "# Getting the last shape of an array\n",
    "final_df.shape"
   ]
  },
  {
   "cell_type": "markdown",
   "metadata": {},
   "source": [
    "We can also take a glance at the overall distribution of data variables."
   ]
  },
  {
   "cell_type": "code",
   "execution_count": null,
   "metadata": {},
   "outputs": [],
   "source": [
    "# Setting col/row size\n",
    "x = 5\n",
    "y = 3\n",
    "# Setting the figsize \n",
    "fig, ax = plt.subplots(x, y, figsize=(20, 25))\n",
    "col = 0\n",
    "column = final_df.columns\n",
    "for i in range(x):\n",
    "    for j in range(y):\n",
    "        sns.distplot(final_df[column[col]], color='seagreen', ax=ax[i][j])\n",
    "        ax[i][j]\n",
    "        col+=1"
   ]
  },
  {
   "cell_type": "markdown",
   "metadata": {},
   "source": [
    "From the above graph, we can see that most  variables are highly skewed to the right direction (has a long right tail in the positive direction on the number line). <p> Most frequent bedrooms are 3-4. Most houses have not been renovated yet. Preferable house floors are among 1-2. Majority house conditions are around average with the frequent grade of *average and good*."
   ]
  },
  {
   "cell_type": "markdown",
   "metadata": {},
   "source": [
    "##### 4.2 Variables Correlations "
   ]
  },
  {
   "cell_type": "markdown",
   "metadata": {},
   "source": [
    "After cleaning we will buld the correlation matrix to show the degree of the linear relationship between variables in a dataset. It indicates the correlation using the correlation coefficients. Correlation coefficients ranges from **-1 to +1**.<p>\n",
    "Each square shows the correlation between the variables on each axis.  Values closer to zero means there is no linear trend between the two variables. The close to 1 the correlation is the more positively correlated they are; that is as one increases so does the other and the closer to 1 the stronger this relationship is. A correlation closer to -1 is similar, but instead of both increasing one variable will decrease as the other increases. <p> The larger the number and darker the color the higher the correlation between the two variables."
   ]
  },
  {
   "cell_type": "code",
   "execution_count": null,
   "metadata": {},
   "outputs": [],
   "source": [
    "# Setup figure size and style\n",
    "plt.figure(figsize=(15, 8))\n",
    "sns.set_style('whitegrid')\n",
    "\n",
    "# define the mask to set the values in the upper triangle to True\n",
    "mask = np.triu(np.ones_like(final_df.corr(), dtype=np.bool))\n",
    "df_heatmap = sns.heatmap(final_df.corr(), mask=mask, vmin=-1, vmax=1, annot=True, cmap='BrBG', linewidth=0.5,\n",
    "                        cbar_kws={'orientation':'vertical', 'shrink':1,'extend':'max', 'ticks':[-1, 0, 1], 'drawedges':True},\n",
    "                        annot_kws={'fontsize':10, 'fontstyle':'italic','fontweight':'bold', 'verticalalignment':'center'})\n",
    "df_heatmap.set_title('King County Housing Correlation Heatmap', fontdict={'fontsize':18}, pad=16)\n",
    "\n",
    "# Save output image as .png\n",
    "plt.savefig('corr_heatmap.png', dpi=300, bbox_inches='tight')"
   ]
  },
  {
   "cell_type": "markdown",
   "metadata": {},
   "source": [
    "From the correlation heatmap plotted above we can visually inspect highly correlated variables as well as our dependent variable `price`. Based on the plot above,the top nine correlated features visually proved their strong correlation with the price in the graph below. To stay more focused we will extract the target variable below."
   ]
  },
  {
   "cell_type": "code",
   "execution_count": null,
   "metadata": {},
   "outputs": [],
   "source": [
    "final_df.describe().bedrooms"
   ]
  },
  {
   "cell_type": "code",
   "execution_count": null,
   "metadata": {},
   "outputs": [],
   "source": [
    "# setup figure\n",
    "fig, axes = plt.subplots(nrows=3, ncols=3, figsize=(18, 20))\n",
    "\n",
    "# iterate and plot subplots\n",
    "top_feat = final_df[['grade', 'sqft_living', 'sqft_living15', 'sqft_above','bathrooms','bedrooms',\n",
    "                     'floors','sqft_basement','view']].copy()\n",
    "for xcol, ax in zip(top_feat.columns, [x for v in axes for x in v]):\n",
    "    final_df.plot.scatter(x=xcol, y='price', ax=ax, alpha=0.5, color='seagreen')\n",
    "fig.tight_layout()\n",
    "plt.show()"
   ]
  },
  {
   "cell_type": "markdown",
   "metadata": {},
   "source": [
    "### Model Building"
   ]
  },
  {
   "cell_type": "markdown",
   "metadata": {},
   "source": [
    "####   Baseline  Model\n"
   ]
  },
  {
   "cell_type": "markdown",
   "metadata": {},
   "source": [
    "We will start to buling our first simple  called *baseline* model along with the feature of `sqft_living`"
   ]
  },
  {
   "cell_type": "markdown",
   "metadata": {},
   "source": [
    "* X = *features, independent variables, predictor*\n",
    "* y =  *target, dependent variable, fitted value*"
   ]
  },
  {
   "cell_type": "code",
   "execution_count": null,
   "metadata": {},
   "outputs": [],
   "source": [
    "# Creating function for Linear Regression\n",
    "\n",
    "def building_lr_model(df):\n",
    "\n",
    "    # Creating features and target variables\n",
    "    X = df.drop(columns=['price'], axis=1)\n",
    "    y = df.price\n",
    "    \n",
    "    # Splitting data into training/testing sets\n",
    "    X_train, X_test, y_train, y_test = train_test_split(X, y, test_size=.2, random_state=42)\n",
    "    #print(len(X_train), len(X_test), len(y_train), len(y_test))\n",
    "    \n",
    "    # Fitting the model\n",
    "    lr = LinearRegression()\n",
    "    model = lr.fit(X_train, y_train)\n",
    "    model\n",
    "    \n",
    "    # Using the model to predict y values for the test and train data\n",
    "    y_hat_train = lr.predict(X_train)\n",
    "    y_hat_test = lr.predict(X_test)\n",
    "    \n",
    "    #Calculate training and test residuals\n",
    "    train_residuals = y_hat_train - y_train\n",
    "    test_residuals = y_hat_test - y_test\n",
    "    \n",
    "    '''\n",
    "    A good way to compare overall performance is to compare\n",
    "    the mean squarred error for the predicted values on the training and test sets.\n",
    "    '''\n",
    "    # Calculate the Mean Squared Error (MSE)\n",
    "    train_mse = mean_squared_error(y_train, y_hat_train)\n",
    "    test_mse = mean_squared_error(y_test, y_hat_test)\n",
    "    print('Train Mean Squarred Error:', train_mse)\n",
    "    print('Test Mean Squarred Error:', test_mse)\n",
    "    \n",
    "    \n",
    "    # Model Summary\n",
    "    X_train = sm.add_constant(X_train)\n",
    "    model = sm.OLS(y_train, X_train).fit()\n",
    "    print(model.summary())\n",
    "    return model"
   ]
  },
  {
   "cell_type": "code",
   "execution_count": null,
   "metadata": {},
   "outputs": [],
   "source": [
    "base_df = final_df[['sqft_living','price']]\n",
    "base_model = building_lr_model(base_df)\n",
    "base_model"
   ]
  },
  {
   "cell_type": "markdown",
   "metadata": {},
   "source": [
    "**R-squared** value is 0.391 i.e. 39% of the variance in the target variable can be explained by the features. In general this seems like a fairly not strong model enough. An explanatory variable in the model is statistically significant at the 95% level (i.e. **p-value** < 5%) which means we can reject the null hypothesis. \n"
   ]
  },
  {
   "cell_type": "code",
   "execution_count": null,
   "metadata": {},
   "outputs": [],
   "source": [
    "# Saving statsmodels result as an image file\n",
    "\n",
    "plt.rc('figure', figsize=(12, 7))\n",
    "plt.text(0.01, 0.05, str(base_model.summary()), {'fontsize': 10}, fontproperties = 'monospace') \n",
    "plt.axis('off')\n",
    "plt.tight_layout()\n",
    "#plt.savefig('BaseModel.png')"
   ]
  },
  {
   "cell_type": "markdown",
   "metadata": {},
   "source": [
    "#### Regression Assumptions Base Model\n",
    "- Linearity : the line of best fit through the data points is a straight line, rather than a curve\n"
   ]
  },
  {
   "cell_type": "code",
   "execution_count": null,
   "metadata": {},
   "outputs": [],
   "source": [
    "# Checking  for the normality of the residuals\n",
    "plt.rc(\"figure\", figsize=(10,5))\n",
    "fig = sm.graphics.qqplot(base_model.resid, dist=stats.norm, line='45', fit=True, \n",
    "                         markerfacecolor='seagreen', markeredgecolor='seagreen',alpha=0.7 )\n",
    "plt.title(\"Residuals Q-Q Plot| BaseModel\")\n",
    "plt.show()\n",
    "\n",
    "#Saving plot as a png\n",
    "#plt.savefig(\"Base Model_Resid_qqplot.png\")"
   ]
  },
  {
   "cell_type": "markdown",
   "metadata": {},
   "source": [
    "- Normality : the data follows a normal distribution\n"
   ]
  },
  {
   "cell_type": "code",
   "execution_count": null,
   "metadata": {},
   "outputs": [],
   "source": [
    "# Setting the figsize \n",
    "plt.figure(figsize=(10, 5))\n",
    "sns.distplot(base_model.resid, color='seagreen')\n",
    "\n",
    "# Saving plot as a png\n",
    "#plt.savefig(\"Base Model_Distrib.png\")"
   ]
  },
  {
   "cell_type": "markdown",
   "metadata": {},
   "source": [
    "- Homoscedasticity : the size of the error in the prediction doesn’t change significantly across the values of the independent variable."
   ]
  },
  {
   "cell_type": "code",
   "execution_count": null,
   "metadata": {},
   "outputs": [],
   "source": [
    "# Setting the figsize \n",
    "plt.figure(figsize=(10, 5))\n",
    "plt.scatter(x=base_model.predict(), y=base_model.resid, color='seagreen', alpha=0.7)\n",
    "#plt.title('Base Model', fontsize=16, y=.99)\n",
    "#Saving plot as a png\n",
    "#plt.savefig(\"BaseModel_Resid_regplot.png\")"
   ]
  },
  {
   "cell_type": "markdown",
   "metadata": {},
   "source": [
    "A slight curved Q-Q plot line suggests residuals may have a non-normal distribution. Base model slightly violates the homoscedasticity and normality assumptions for linear regression. We can further apply Log-transformation to meet this assumptions in our upcoming models"
   ]
  },
  {
   "cell_type": "markdown",
   "metadata": {},
   "source": [
    "#### Model #1"
   ]
  },
  {
   "cell_type": "markdown",
   "metadata": {},
   "source": [
    "Let's construct the second model by log transorming target variable and  including all the remaining features which have correlations above 0.20 with the target variable.\n"
   ]
  },
  {
   "cell_type": "code",
   "execution_count": null,
   "metadata": {},
   "outputs": [],
   "source": [
    "# Setting the figsize \n",
    "plt.figure(figsize=(7, 8))\n",
    "heatmap = sns.heatmap(final_df.corr()[['price']].sort_values(by='price', ascending=False), \n",
    "                      vmin=-1, vmax=1, annot=True, cmap='BrBG',cbar_kws={'orientation':'vertical',\n",
    "                                                                         'shrink':1,'extend':'both',\n",
    "                                                                         'ticks':[-1, 0, 1], 'drawedges':True},\n",
    "                      annot_kws={'fontsize':10, 'fontstyle':'italic','fontweight':'bold', 'verticalalignment':'center'})\n",
    "\n",
    "heatmap.set_title('Price and Features correlation', fontdict={'fontsize':18}, pad=16);\n",
    "plt.savefig('target_feat_corr.png', dpi=300, bbox_inches='tight')"
   ]
  },
  {
   "cell_type": "code",
   "execution_count": null,
   "metadata": {},
   "outputs": [],
   "source": [
    "# Log transform of target variable\n",
    "final_df['price'] = np.log(final_df['price'])"
   ]
  },
  {
   "cell_type": "code",
   "execution_count": null,
   "metadata": {},
   "outputs": [],
   "source": [
    "# Building 1-Model\n",
    "model1_df = final_df[['price', 'grade','sqft_living','sqft_living15','sqft_above',\n",
    "                      'bathrooms','bedrooms','view','floors','sqft_basement']]\n",
    "model1 = building_lr_model(model1_df)\n",
    "model1"
   ]
  },
  {
   "cell_type": "markdown",
   "metadata": {},
   "source": [
    "**R-squared**: 50% of the variance in the target variable can be explained by the features <p>\n",
    "**p-value**: We can reject the null hyphothesis and conclude that a significant difference exists for 8 features in our model except `sqft_basement`. It hase p_vale `0.761` meaning that deviation from the null hypothesis is not statistically significant, and the null hypothesis is not rejected. It may be due to the Multicollinearity issues. We will check it in our second model."
   ]
  },
  {
   "cell_type": "markdown",
   "metadata": {},
   "source": [
    "#### Regression Assumptions Model #1\n",
    "- Linearity\n"
   ]
  },
  {
   "cell_type": "code",
   "execution_count": null,
   "metadata": {},
   "outputs": [],
   "source": [
    "# Checking  for the normality of the residuals\n",
    "plt.rc(\"figure\", figsize=(10,5))\n",
    "fig = sm.graphics.qqplot(model1.resid, dist=stats.norm, line='45', fit=True, \n",
    "                         markerfacecolor='seagreen', markeredgecolor='seagreen',alpha=0.7 )\n",
    "plt.title(\"Residuals Q-Q Plot| Model1\")\n",
    "plt.show()\n",
    "\n",
    "#Saving plot as a png\n",
    "#plt.savefig(\"Model1_Resid_qqplot.png\")"
   ]
  },
  {
   "cell_type": "markdown",
   "metadata": {},
   "source": [
    "- Normality"
   ]
  },
  {
   "cell_type": "code",
   "execution_count": null,
   "metadata": {},
   "outputs": [],
   "source": [
    "plt.figure(figsize=(10, 5))\n",
    "sns.distplot(model1.resid, color='seagreen')\n",
    "#Saving plot as a png\n",
    "#plt.savefig(\"Model1_Distrib.png\")"
   ]
  },
  {
   "cell_type": "markdown",
   "metadata": {},
   "source": [
    "- Homoscedasticity"
   ]
  },
  {
   "cell_type": "code",
   "execution_count": null,
   "metadata": {},
   "outputs": [],
   "source": [
    "plt.figure(figsize=(10, 5))\n",
    "plt.scatter(x=model1.predict(), y=model1.resid, color='seagreen', alpha=0.5)\n",
    "#plt.title('Model1', fontsize=16, y=.99)\n",
    "#Saving plot as a png\n",
    "#plt.savefig(\"Model1_Resid_regplot.png\")"
   ]
  },
  {
   "cell_type": "code",
   "execution_count": null,
   "metadata": {},
   "outputs": [],
   "source": [
    "# Saving statsmodels result as an image file\n",
    "plt.rc('figure', figsize=(12, 7))\n",
    "plt.text(0.01, 0.05, str(model1.summary()), {'fontsize': 10}, fontproperties = 'monospace') \n",
    "plt.axis('off')\n",
    "plt.tight_layout()\n",
    "#plt.savefig('Model1.png')"
   ]
  },
  {
   "cell_type": "markdown",
   "metadata": {},
   "source": [
    "#### Model #2"
   ]
  },
  {
   "cell_type": "markdown",
   "metadata": {},
   "source": [
    "For second model we will check for multicollinearity of the features and make required adjustifications . We will perform it by  looking their correlation coefficients  with magnitudes of **.70** or higher"
   ]
  },
  {
   "cell_type": "code",
   "execution_count": null,
   "metadata": {},
   "outputs": [],
   "source": [
    "# Selecting  features\n",
    "feat_col = model1_df.drop(columns=['price'])\n",
    "\n",
    "top_feat= feat_col.corr().abs().stack().reset_index().sort_values(0, ascending=False)\n",
    "\n",
    "# zip the variable name columns (Which were only named level_0 and level_1 by default) in a new column named \"pairs\"\n",
    "top_feat['features'] = list(zip(top_feat.level_0, top_feat.level_1))\n",
    "top_feat.set_index(['features'], inplace = True)\n",
    "top_feat.drop(columns=['level_1', 'level_0'], inplace = True)\n",
    "\n",
    "# rename correlation column \n",
    "top_feat.columns = ['correlation']\n",
    "top_feat.drop_duplicates(inplace=True)\n",
    "\n",
    "top_feat[(top_feat.correlation>.70) & (top_feat.correlation<1)].reset_index()"
   ]
  },
  {
   "cell_type": "markdown",
   "metadata": {},
   "source": [
    "The `sqft_living` and `sqft_above` demonstrating higher multicollinearity within our selected top features. We will construct our models by eliminating them in seperate models further. \n",
    "Let's  try to drop `sqft_living` first in the model below"
   ]
  },
  {
   "cell_type": "code",
   "execution_count": null,
   "metadata": {},
   "outputs": [],
   "source": [
    "model2_df = model1_df.drop(columns=['sqft_living'])\n",
    "model2 = building_lr_model(model2_df)\n",
    "model2"
   ]
  },
  {
   "cell_type": "markdown",
   "metadata": {},
   "source": [
    "**R-squared**:  The R2 = 0.499, meaning that “49.9%” of the variance in the measure of the response (SalePrice) can be predicted by the selected predictor variables in the model<p>\n",
    "**P-value**: All of the p-values of the features round to *0.0* means they are statistically significant at the level of 95%.\n",
    "\n"
   ]
  },
  {
   "cell_type": "markdown",
   "metadata": {},
   "source": [
    "#### Regression Assumptions Model #2\n",
    "- Linearity"
   ]
  },
  {
   "cell_type": "code",
   "execution_count": null,
   "metadata": {},
   "outputs": [],
   "source": [
    "# Checking  for the normality of the residuals\n",
    "plt.rc(\"figure\", figsize=(10,5))\n",
    "fig = sm.graphics.qqplot(model2.resid, dist=stats.norm, line='45', fit=True, \n",
    "                         markerfacecolor='seagreen', markeredgecolor='seagreen',alpha=0.7 )\n",
    "plt.title(\"Residuals Q-Q Plot| Model2\")\n",
    "plt.show()\n",
    "\n",
    "#Saving plot as a png\n",
    "#plt.savefig(\"Model2_Resid_qqplot.png\")"
   ]
  },
  {
   "cell_type": "markdown",
   "metadata": {},
   "source": [
    "-  Normality"
   ]
  },
  {
   "cell_type": "code",
   "execution_count": null,
   "metadata": {},
   "outputs": [],
   "source": [
    "plt.figure(figsize=(10, 5))\n",
    "sns.distplot(model2.resid, color='seagreen')\n",
    "\n",
    "#Saving plot as a png\n",
    "#plt.savefig(\"Model2_Distrib.png\")"
   ]
  },
  {
   "cell_type": "markdown",
   "metadata": {},
   "source": [
    "- Homoscedasticity"
   ]
  },
  {
   "cell_type": "code",
   "execution_count": null,
   "metadata": {},
   "outputs": [],
   "source": [
    "plt.figure(figsize=(10, 5))\n",
    "plt.scatter(x=model2.predict(), y=model2.resid, color='seagreen', alpha=0.5)\n",
    "#plt.title('Model1', fontsize=16, y=.99)\n",
    "#Saving plot as a png\n",
    "#plt.savefig(\"Model1_Resid_regplot.png\")"
   ]
  },
  {
   "cell_type": "code",
   "execution_count": null,
   "metadata": {},
   "outputs": [],
   "source": [
    "# Saving statsmodels result as an image file\n",
    "plt.rc('figure', figsize=(12, 7))\n",
    "plt.text(0.01, 0.05, str(model2.summary()), {'fontsize': 10}, fontproperties = 'monospace') \n",
    "plt.axis('off')\n",
    "plt.tight_layout()\n",
    "#plt.savefig('Model2.png')"
   ]
  },
  {
   "cell_type": "markdown",
   "metadata": {},
   "source": [
    "####  Model #3"
   ]
  },
  {
   "cell_type": "markdown",
   "metadata": {},
   "source": [
    "For the third model we will be eliminating  `sqft_above` cause of multicollinerity and `sqft_living15` due to it's low coefficience."
   ]
  },
  {
   "cell_type": "code",
   "execution_count": null,
   "metadata": {},
   "outputs": [],
   "source": [
    "model3_df = model1_df.drop(columns=['sqft_above', 'sqft_living15'])\n",
    "model3 = building_lr_model(model3_df)\n",
    "model3"
   ]
  },
  {
   "cell_type": "markdown",
   "metadata": {},
   "source": [
    "**R-squared**: In terms of R2-value we got decrease 0.002 than the second model <p>\n",
    "**P-value** : We can still reject the null hyphothesis and conclude that a significant difference does exist at the 95% level."
   ]
  },
  {
   "cell_type": "markdown",
   "metadata": {},
   "source": [
    "#### Regression Assumptions Model #3\n",
    "- Linearity"
   ]
  },
  {
   "cell_type": "code",
   "execution_count": null,
   "metadata": {},
   "outputs": [],
   "source": [
    "# Checking  for the normality of the residuals\n",
    "plt.rc(\"figure\", figsize=(10,5))\n",
    "fig = sm.graphics.qqplot(model3.resid, dist=stats.norm, line='45', fit=True, \n",
    "                         markerfacecolor='seagreen', markeredgecolor='seagreen',alpha=0.7 )\n",
    "plt.title(\"Residuals Q-Q Plot| Model3\")\n",
    "plt.show()\n",
    "#Saving plot as a png\n",
    "plt.savefig(\"Model3_Resid_qqplot.png\")"
   ]
  },
  {
   "cell_type": "markdown",
   "metadata": {},
   "source": [
    "- Normality"
   ]
  },
  {
   "cell_type": "code",
   "execution_count": null,
   "metadata": {},
   "outputs": [],
   "source": [
    "plt.figure(figsize=(10, 5))\n",
    "sns.distplot(model3.resid, color='seagreen')\n",
    "#Saving plot as a png\n",
    "plt.savefig(\"Model3_Distrib.png\")"
   ]
  },
  {
   "cell_type": "markdown",
   "metadata": {},
   "source": [
    "- Homoscedasticity"
   ]
  },
  {
   "cell_type": "code",
   "execution_count": null,
   "metadata": {},
   "outputs": [],
   "source": [
    "plt.figure(figsize=(10, 5))\n",
    "plt.scatter(x=model3.predict(), y=model3.resid, color='seagreen', alpha=0.5)\n",
    "#plt.title('Model3', fontsize=16, y=.99)\n",
    "#Saving plot as a png\n",
    "plt.savefig(\"Model3_Resid_regplot.png\")"
   ]
  },
  {
   "cell_type": "code",
   "execution_count": null,
   "metadata": {},
   "outputs": [],
   "source": [
    "# Saving statsmodels result as an image file\n",
    "plt.rc('figure', figsize=(12, 7))\n",
    "plt.text(0.01, 0.05, str(model3.summary()), {'fontsize': 10}, fontproperties = 'monospace') \n",
    "plt.axis('off')\n",
    "plt.tight_layout()\n",
    "plt.savefig('Model3_summary.png')"
   ]
  },
  {
   "cell_type": "markdown",
   "metadata": {},
   "source": [
    "\n",
    "To see which predictor variables are significant, we can examine the coefficients table, which shows the estimate of regression coefficients and the associated t-statistic, and p-values:\n",
    "\n",
    "When the p-value is less than `0.05`, this tells us that the predictor is statistically significant. In our final model all predictor variables have p-values less than 0.05, meaning all these predictors are significant. So, we can consider this model as our final predictive model."
   ]
  },
  {
   "cell_type": "markdown",
   "metadata": {},
   "source": [
    "### Conclusion"
   ]
  },
  {
   "cell_type": "markdown",
   "metadata": {},
   "source": [
    "Thus we have created a linear regression model determining best predictors of a house's price in King County, WA between 2014-2015. <p> \n",
    "The methodology included cleaning the datasets from outliers, combining the training and testing data , exploring the data and producing the summary statistics, checking for the completeness of data and missing values, conducting Exploratory Data Analysis (EDA), removing nonimportant features based on EDA, checking multicollinearity among different features, removing highly correlated features.<p>\n",
    "    \n",
    "##### The final multiple regression model summary  <p>\n",
    "An optimal final predictive model was achieved by keeping the most influential predictors only. Mean Squared Error, (MSE) of the final model was found to be small (11%) by applying  validation set approach.  However, our model is not perfect. Its coefficient of determination: R-squared is  *0.497*. Since we are working with real-world data that is inherently noisy, this is not a bad value. However, this still means that more than 50% of the variance in housing prices cannot be explained by the selected principal components. \n",
    "\n",
    "##### Interpreting Regression Coefficients<p>\n",
    "The sign of a regression coefficient indicates  whether there is a positive or negative correlation between each independent variable and the dependent variable in the model. A positive coefficient indicates that as the value of the independent variable increases, the mean of the dependent variable also tends to increase.Thus when we increase the features  with **one unit** the price will increase in the following way: <p> `grade`:+18.61%  `view`:+9.12% `floors`: +5.48%  `sqft_living`:+0.02% `sqft_basement`:0.01% <p>\n",
    "The negative coefficients suggests that when we increase the independent with **one unit**, the price tends to decrease like in the: `bathrooms`:-3.34% `bedrooms`:-2.03% <p>\n",
    "\n",
    "    \n",
    "The model does consists of limitations. Given that outliers were removed, the model may not accurately predict extreme values. Other models like logistic regression, decision trees, linear SVMs also can be constructed and compared by results. Future analysis should include other predictors such house locations, demographics , security of a neighborhood and availability of  educational institutions.\n",
    "\n",
    "    \n",
    "    \n",
    "\n"
   ]
  },
  {
   "cell_type": "code",
   "execution_count": null,
   "metadata": {},
   "outputs": [],
   "source": []
  }
 ],
 "metadata": {
  "kernelspec": {
   "display_name": "Python 3",
   "language": "python",
   "name": "python3"
  },
  "language_info": {
   "codemirror_mode": {
    "name": "ipython",
    "version": 3
   },
   "file_extension": ".py",
   "mimetype": "text/x-python",
   "name": "python",
   "nbconvert_exporter": "python",
   "pygments_lexer": "ipython3",
   "version": "3.8.5"
  }
 },
 "nbformat": 4,
 "nbformat_minor": 2
}
